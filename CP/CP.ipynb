{
 "cells": [
  {
   "cell_type": "markdown",
   "metadata": {},
   "source": [
    "# Курсовой проект\n",
    "\n",
    "По дисциплине \"Интеллектуальный анализ и обработка данных\".\n",
    "\n",
    "Выполнили: ст. гр. 4230М А.Н. Секунов, Д.А. Фомин."
   ]
  },
  {
   "cell_type": "markdown",
   "metadata": {
    "jp-MarkdownHeadingCollapsed": true
   },
   "source": [
    "## Содержание\n",
    "1. [Задание](#task)\n",
    "2. [ Исходные данные](#initial_data)  \n",
    "    2.1. [Загрузка исходных данных](#load_data)  \n",
    "    2.2. [Ознакомление с данными](#viewing_data)  \n",
    "        2.2.1. [Поле \"Attack type\" в размеченных данных](#fg1)  \n",
    "        2.2.2. [Основные характеристики каждого вектора сетевого подключения](#fg2)  \n",
    "            [0) duration](#f0)  \n",
    "            [1) protocol_type](#f1)  \n",
    "            [2) service](#f2)  \n",
    "            [3) flag](#f3)  \n",
    "            [4) src_bytes](#f4)  \n",
    "            [5) dst_bytes](#f5)  \n",
    "            [6) land](#f6)  \n",
    "            [7) wrong_fragment](#f7)  \n",
    "            [8) urgent](#f8)  \n",
    "        2.2.3. [Контентные характеристики каждого вектора сетевого подключения](#fg3)  \n",
    "            [9) hot](#f9)  \n",
    "            [10) num_failed_logins](#f10)  \n",
    "            [11) logged_in](#f11)  \n",
    "            [12) num_compromised](#f12)  \n",
    "            [13) root_shell](#f13)  \n",
    "            [14) su_attempted](#f14)  \n",
    "            [15) num_root](#f15)  \n",
    "            [16) num_file_creations](#f16)  \n",
    "            [17) num_shells](#f17)  \n",
    "            [18) num_access_files](#f18)  \n",
    "            [19) num_outbound_cmds](#f19)  \n",
    "            [20) is_host_login](#f20)  \n",
    "            [21) is_guest_login](#f21)  \n",
    "        2.2.4. [Временные характеристики трафика каждого вектора сетевого соединения](#fg4)  \n",
    "            [22) count](#f22)  \n",
    "            [23) srv_count](#f23)  \n",
    "            [24) serror_rate](#f24)  \n",
    "            [25) srv_serror_rate](#f25)  \n",
    "            [26) rerror_rate](#f26)  \n",
    "            [27) srv_rerror_rate](#f27)  \n",
    "            [28) same_srv_rate](#f28)  \n",
    "            [29) diff_srv_rate](#f29)  \n",
    "            [30) srv_diff_host_rate](#f30)  \n",
    "        2.2.5. [Особенности трафика на основе хоста в векторе сетевого соединения](#fg5)  \n",
    "            [31) dst_host_count](#f31)  \n",
    "            [32) dst_host_srv_count](#f32)  \n",
    "            [33) dst_host_same_srv_rate](#f33)  \n",
    "            [34) dst_host_diff_srv_rate](#f34)  \n",
    "            [35) dst_host_same_src_port_rate](#f35)  \n",
    "            [36) dst_host_srv_diff_host_rate](#f36)  \n",
    "            [37) dst_host_serror_rate](#f37)  \n",
    "            [38) dst_host_srv_serror_rate](#f38)  \n",
    "            [39) dst_host_rerror_rate](#f39)  \n",
    "            [40) dst_host_srv_rerror_rate](#f40)  \n",
    "        2.2.6. [Общий итог по анализу данных](#fg6)  \n",
    "3. [Выводы](#conclusions)\n",
    "4. [Список литературы](#references)"
   ]
  },
  {
   "cell_type": "markdown",
   "metadata": {},
   "source": [
    "## 1. Задание <a id=\"task\"></a>\n",
    "\n",
    "1.\n",
    "    1. Для вариантов 1-20 дан многомерный набор данных телеметрической информации (ТМИ) малого космического аппарата, полученный в результате  предобработки и разметки в ЛР3. Разработать приложение на языке Python и  необходимых библиотек машинного и глубокого обучения на основе  классификационной модели, заданной в варианте, которое определяет техническое  состояние малого космического аппарата: штатное ф-е, отказ, сбой, на основе  данных его ТМИ.\n",
    "    2. Для вариантов 21-40 дан многомерный набор данных сетевого трафика. Разработать приложение на языке Python и необходимых библиотек машинного и глубокого обучения на основе классификационной модели, заданной в варианте, х, которое определяет попытки сетевых вторжений на основе данных сетевого трафика.\n",
    "2. Выполнить разведочный анализ данных как в ЛР.\n",
    "3. Анализ выполняется для исходного набора данных и преобразованного исходного набора данных, который Вы подбираете самостоятельно с целью получения лучшей точности классификации.\n",
    "4. Проверить набор данных на сбалансированность классов. В случае несбалансированного набора данных помимо “Classification report” с основными метриками: Accuracy, Precision, Recall, F1-score, также оценивать balanced_accuracy_score. Также оценивать и анализировать ROC_AUC_score.\n",
    "5. Для выбранной комбинации набора данных и предиктивной модели выполняется поиск гиперпараметров с помощью генетического алгоритма. Реализовывать ГА можно самостоятельно или воспользоваться библиотекой DEAP (https://deap.readthedocs.io/en/master/index.html). \n",
    "  Для выбранной комбинации набора данных и предиктивной модели выполняется поиск гиперпараметров методом greedsearch. Сравнить полученные результаты.\n",
    "  Во все НС классификационные модели добавить слой регуляризации Dropuot().\n",
    "  Сохранять лог всех генерируемых НС моделей в популяции.\n",
    "  Гиперпараметры: число сверточных фильтров в сверточных слоях, размер свертки в сверточных слоях, число нейронов в рекуррентных слоях,  число нейронов в полносвязных слоях, параметр в слое Dropuot(), алгоритм обучения.\n",
    "6. На неразмеченной части набора данных выполнить предобучение с помощью автокодировщика, построенного на основании базового нейросетевого классификатора, заданного в варинте. Выполнить точную настройку (дообучение) базовой нейронной сети на размеченном наборе данных.\n",
    "7. Сделать выводы по проведенному анализу.\n",
    "\n",
    "**Вариант 28**\n",
    "\n",
    "Гибридная нейросетевая модель: последовательностное соединение  одномерных сверточных и рекуррентных двунаправленных (Bidirectional layer)  нейросетевых слоев с полносвязным классификатором: самостоятельная реализация."
   ]
  },
  {
   "cell_type": "markdown",
   "metadata": {},
   "source": [
    "## 2. Исходные данные <a id=\"initial_data\"></a>\n",
    "\n",
    "В качестве исходных данных используется датасет на основе KDD [[1](#l1)], [[2](#l2)]. \n",
    "\n",
    "Используемые файлы:\n",
    "\n",
    " - kdd_10000_labeled.csv - выборка из 10К записей с меткой атаки (https://github.com/Demetrey/DMaP/blob/CP/CP/datasets/kdd_10000_labeled.csv);\n",
    " - kdd_50000_unlabeled.csv - выборка из 50К записей без метки атаки (https://github.com/Demetrey/DMaP/blob/CP/CP/datasets/kdd_50000_unlabeled.csv);\n",
    " - Field Names.csv - наименования полей (https://github.com/defcom17/NSL_KDD/blob/master/Field%20Names.csv).\n",
    "\n",
    "Набор данных NSL-KDD содержит 4 категории угроз [[3](#l3)]:\n",
    "\n",
    " - Denial of Service (dos). Набор атак, в которых злоумышленник ограничивает доступ верифицированным пользователям к конкретному сервису через определенный протокол (Back, Land, Neptune, Pod, Smurf, Teardrop, Apache2, Udpstorm, Processtable, Worm);\n",
    " - Remote to Local (r2l). Набор атак, в которых злоумышленник пытается получить доступ извне к локальной машине пользователя (Guess_Password, Ftp_write, Imap, Phf, Multihop, Warezmaster, Warezclient, Spy, Xlock, Xsnoop, Snmpguess, Snmpgetattack, Httptunnel, Sendmail, Named);\n",
    " - User to Root (u2r). Набор атак, в которых злоумышленник, имея доступ к машине жертвы, пытается получить права более привилегированного пользователя (Buffer_overflow, Loadmodule, Rootkit, Perl, Sqlattack, Xterm, Ps);\n",
    " - Probe. Набор атак, в которых злоумышленник пытается получить сведения об инфраструктуре пользователя (Satan, Ipsweep, Nmap, Portsweep, Mscan, Saint).\n",
    "\n",
    "Заданные выборки предназначены для двоичной классификации: наличие угрозы / отсутствие угрозы (normal).\n",
    "\n",
    "Размерность вектра составляет 42 (41 атрибут, нименования которых хранится в файле Field Names.csv, 42-ой атрибут представляет собой тип атаки).\n",
    "43 атрибут NSL-KDD был исключен."
   ]
  },
  {
   "cell_type": "markdown",
   "metadata": {},
   "source": [
    "### 2.1. Загрузка исходных данных <a id=\"load_data\"></a>"
   ]
  },
  {
   "cell_type": "code",
   "execution_count": 1,
   "metadata": {},
   "outputs": [],
   "source": [
    "import urllib.request\n",
    "import os\n",
    "\n",
    "save_path = './datasets'\n",
    "download_path = './datasets/download'\n",
    "dataset_url = 'https://raw.githubusercontent.com/Demetrey/DMaP/CP/CP/datasets/'\n",
    "fnames_url = 'https://raw.githubusercontent.com/defcom17/NSL_KDD/master/Field%20Names.csv'\n",
    "urls = { 'kdd_10000_labeled': dataset_url + 'kdd_10000_labeled.csv',\n",
    "         'kdd_50000_unlabeled': dataset_url + 'kdd_50000_unlabeled.csv' }\n",
    "\n",
    "if not os.path.exists(save_path):\n",
    "    os.mkdir(save_path)\n",
    "\n",
    "for key in urls:\n",
    "    file_name = os.path.join(save_path, key + '.csv')\n",
    "    urllib.request.urlretrieve(urls[key], file_name)\n",
    "\n",
    "# download fields\n",
    "if not os.path.exists(download_path):\n",
    "    os.mkdir(download_path)\n",
    "\n",
    "_ = urllib.request.urlretrieve(fnames_url, os.path.join(download_path, 'fields.csv'))"
   ]
  },
  {
   "cell_type": "markdown",
   "metadata": {},
   "source": [
    "Объединение заголовков и данных"
   ]
  },
  {
   "cell_type": "code",
   "execution_count": 2,
   "metadata": {},
   "outputs": [],
   "source": [
    "import pandas as pd\n",
    "import numpy as np\n",
    "fnames = pd.read_csv('./datasets/download/fields.csv', header=None)[0].to_numpy()\n",
    "\n",
    "# Для размеченных данных\n",
    "data_10k = pd.read_csv('./datasets/kdd_10000_labeled.csv')\n",
    "data_10k.columns = np.append(fnames, 'Attack type')\n",
    "\n",
    "# Для неразмеченных данных\n",
    "data_50k = pd.read_csv('./datasets/kdd_50000_unlabeled.csv')\n",
    "data_50k.columns = fnames"
   ]
  },
  {
   "cell_type": "markdown",
   "metadata": {},
   "source": [
    "### 2.2. Ознакомление с данными <a id=\"viewing_data\"></a>\n",
    "Вывод общих сведений о наборах"
   ]
  },
  {
   "cell_type": "code",
   "execution_count": 3,
   "metadata": {},
   "outputs": [
    {
     "name": "stdout",
     "output_type": "stream",
     "text": [
      "<class 'pandas.core.frame.DataFrame'>\n",
      "RangeIndex: 10000 entries, 0 to 9999\n",
      "Data columns (total 42 columns):\n",
      " #   Column                       Non-Null Count  Dtype  \n",
      "---  ------                       --------------  -----  \n",
      " 0   duration                     10000 non-null  int64  \n",
      " 1   protocol_type                10000 non-null  object \n",
      " 2   service                      10000 non-null  object \n",
      " 3   flag                         10000 non-null  object \n",
      " 4   src_bytes                    10000 non-null  int64  \n",
      " 5   dst_bytes                    10000 non-null  int64  \n",
      " 6   land                         10000 non-null  int64  \n",
      " 7   wrong_fragment               10000 non-null  int64  \n",
      " 8   urgent                       10000 non-null  int64  \n",
      " 9   hot                          10000 non-null  int64  \n",
      " 10  num_failed_logins            10000 non-null  int64  \n",
      " 11  logged_in                    10000 non-null  int64  \n",
      " 12  num_compromised              10000 non-null  int64  \n",
      " 13  root_shell                   10000 non-null  int64  \n",
      " 14  su_attempted                 10000 non-null  int64  \n",
      " 15  num_root                     10000 non-null  int64  \n",
      " 16  num_file_creations           10000 non-null  int64  \n",
      " 17  num_shells                   10000 non-null  int64  \n",
      " 18  num_access_files             10000 non-null  int64  \n",
      " 19  num_outbound_cmds            10000 non-null  int64  \n",
      " 20  is_host_login                10000 non-null  int64  \n",
      " 21  is_guest_login               10000 non-null  int64  \n",
      " 22  count                        10000 non-null  int64  \n",
      " 23  srv_count                    10000 non-null  int64  \n",
      " 24  serror_rate                  10000 non-null  float64\n",
      " 25  srv_serror_rate              10000 non-null  float64\n",
      " 26  rerror_rate                  10000 non-null  float64\n",
      " 27  srv_rerror_rate              10000 non-null  float64\n",
      " 28  same_srv_rate                10000 non-null  float64\n",
      " 29  diff_srv_rate                10000 non-null  float64\n",
      " 30  srv_diff_host_rate           10000 non-null  float64\n",
      " 31  dst_host_count               10000 non-null  int64  \n",
      " 32  dst_host_srv_count           10000 non-null  int64  \n",
      " 33  dst_host_same_srv_rate       10000 non-null  float64\n",
      " 34  dst_host_diff_srv_rate       10000 non-null  float64\n",
      " 35  dst_host_same_src_port_rate  10000 non-null  float64\n",
      " 36  dst_host_srv_diff_host_rate  10000 non-null  float64\n",
      " 37  dst_host_serror_rate         10000 non-null  float64\n",
      " 38  dst_host_srv_serror_rate     10000 non-null  float64\n",
      " 39  dst_host_rerror_rate         10000 non-null  float64\n",
      " 40  dst_host_srv_rerror_rate     10000 non-null  float64\n",
      " 41  Attack type                  10000 non-null  object \n",
      "dtypes: float64(15), int64(23), object(4)\n",
      "memory usage: 3.2+ MB\n"
     ]
    }
   ],
   "source": [
    "data_10k.info()"
   ]
  },
  {
   "cell_type": "code",
   "execution_count": 4,
   "metadata": {},
   "outputs": [
    {
     "name": "stdout",
     "output_type": "stream",
     "text": [
      "<class 'pandas.core.frame.DataFrame'>\n",
      "RangeIndex: 50000 entries, 0 to 49999\n",
      "Data columns (total 41 columns):\n",
      " #   Column                       Non-Null Count  Dtype  \n",
      "---  ------                       --------------  -----  \n",
      " 0   duration                     50000 non-null  int64  \n",
      " 1   protocol_type                50000 non-null  object \n",
      " 2   service                      50000 non-null  object \n",
      " 3   flag                         50000 non-null  object \n",
      " 4   src_bytes                    50000 non-null  int64  \n",
      " 5   dst_bytes                    50000 non-null  int64  \n",
      " 6   land                         50000 non-null  int64  \n",
      " 7   wrong_fragment               50000 non-null  int64  \n",
      " 8   urgent                       50000 non-null  int64  \n",
      " 9   hot                          50000 non-null  int64  \n",
      " 10  num_failed_logins            50000 non-null  int64  \n",
      " 11  logged_in                    50000 non-null  int64  \n",
      " 12  num_compromised              50000 non-null  int64  \n",
      " 13  root_shell                   50000 non-null  int64  \n",
      " 14  su_attempted                 50000 non-null  int64  \n",
      " 15  num_root                     50000 non-null  int64  \n",
      " 16  num_file_creations           50000 non-null  int64  \n",
      " 17  num_shells                   50000 non-null  int64  \n",
      " 18  num_access_files             50000 non-null  int64  \n",
      " 19  num_outbound_cmds            50000 non-null  int64  \n",
      " 20  is_host_login                50000 non-null  int64  \n",
      " 21  is_guest_login               50000 non-null  int64  \n",
      " 22  count                        50000 non-null  int64  \n",
      " 23  srv_count                    50000 non-null  int64  \n",
      " 24  serror_rate                  50000 non-null  float64\n",
      " 25  srv_serror_rate              50000 non-null  float64\n",
      " 26  rerror_rate                  50000 non-null  float64\n",
      " 27  srv_rerror_rate              50000 non-null  float64\n",
      " 28  same_srv_rate                50000 non-null  float64\n",
      " 29  diff_srv_rate                50000 non-null  float64\n",
      " 30  srv_diff_host_rate           50000 non-null  float64\n",
      " 31  dst_host_count               50000 non-null  int64  \n",
      " 32  dst_host_srv_count           50000 non-null  int64  \n",
      " 33  dst_host_same_srv_rate       50000 non-null  float64\n",
      " 34  dst_host_diff_srv_rate       50000 non-null  float64\n",
      " 35  dst_host_same_src_port_rate  50000 non-null  float64\n",
      " 36  dst_host_srv_diff_host_rate  50000 non-null  float64\n",
      " 37  dst_host_serror_rate         50000 non-null  float64\n",
      " 38  dst_host_srv_serror_rate     50000 non-null  float64\n",
      " 39  dst_host_rerror_rate         50000 non-null  float64\n",
      " 40  dst_host_srv_rerror_rate     50000 non-null  float64\n",
      "dtypes: float64(15), int64(23), object(3)\n",
      "memory usage: 15.6+ MB\n"
     ]
    }
   ],
   "source": [
    "data_50k.info()"
   ]
  },
  {
   "cell_type": "markdown",
   "metadata": {},
   "source": [
    "Как видно, пустые значения в наборах отсутствуют."
   ]
  },
  {
   "cell_type": "markdown",
   "metadata": {},
   "source": [
    "#### 2.2.1. Поле \"Attack type\" в размеченных данных <a id=\"fg1\"></a>\n",
    "В размеченном наборе *data_10k* присутствет дополнительное атрибут (*41. Attack type*), который указывает состояние соединения в даннным момент времени: имеется ли атака или нет."
   ]
  },
  {
   "cell_type": "code",
   "execution_count": 5,
   "metadata": {},
   "outputs": [
    {
     "data": {
      "text/plain": [
       "Attack type\n",
       "normal.             7787\n",
       "smurf.              2207\n",
       "buffer_overflow.       2\n",
       "neptune.               2\n",
       "loadmodule.            1\n",
       "perl.                  1\n",
       "Name: count, dtype: int64"
      ]
     },
     "execution_count": 5,
     "metadata": {},
     "output_type": "execute_result"
    }
   ],
   "source": [
    "data_10k['Attack type'].value_counts()"
   ]
  },
  {
   "cell_type": "markdown",
   "metadata": {},
   "source": [
    "Так как решается задача двоичной классификации, то всем записям со значением \"*normal*\" будет присвоено значение *0*, а всем остальным *1*."
   ]
  },
  {
   "cell_type": "code",
   "execution_count": 6,
   "metadata": {},
   "outputs": [
    {
     "data": {
      "text/plain": [
       "0    7787\n",
       "1    2213\n",
       "Name: count, dtype: int64"
      ]
     },
     "execution_count": 6,
     "metadata": {},
     "output_type": "execute_result"
    }
   ],
   "source": [
    "Y = pd.Series(1, index=np.arange(data_10k.shape[0]))\n",
    "Y[data_10k['Attack type'] == 'normal.'] = 0\n",
    "Y.value_counts()"
   ]
  },
  {
   "cell_type": "markdown",
   "metadata": {},
   "source": [
    "В следующих разделах приводится описание остальных атрибутов [[4](#l4)], которые можно разделить на:"
   ]
  },
  {
   "cell_type": "code",
   "execution_count": 7,
   "metadata": {},
   "outputs": [],
   "source": [
    "# Категории\n",
    "category_fn = data_50k.columns[[1, 2, 3]]\n",
    "# Логические значения (1 - Да, 0 - Нет)\n",
    "boolean_fn = data_50k.columns[[6, 11, 13, 14, 20, 21]]\n",
    "# Числовые значения\n",
    "number_fn = data_50k.columns.drop(category_fn).drop(boolean_fn)"
   ]
  },
  {
   "cell_type": "markdown",
   "metadata": {},
   "source": [
    "Далее приводятся вспомогательные функции для отображения информации об определённом атрибуте:"
   ]
  },
  {
   "cell_type": "code",
   "execution_count": 8,
   "metadata": {},
   "outputs": [],
   "source": [
    "from IPython.display import display, Markdown, HTML\n",
    "\n",
    "info_cols = [\n",
    "    'data_10k',\n",
    "    '[Y=1] data_10k',\n",
    "    '[Y=0] data_10k',\n",
    "    'data_50k'\n",
    "]\n",
    "\n",
    "# Формирование статистики\n",
    "def get_df(fn, func):\n",
    "    df = pd.concat([\n",
    "        func(data_10k[fn]),             # Все для размеченных\n",
    "        func(data_10k[fn][Y==1]),       # Только с атаками\n",
    "        func(data_10k[fn][Y==0]),       # Только \"нормальные\"\n",
    "        func(data_50k[fn])], axis=1)    # Все для неразмеченных\n",
    "    df.columns = info_cols\n",
    "    return df\n",
    "\n",
    "# Для заметного выделения\n",
    "def print_warning(msg):\n",
    "    display(HTML(f'<b style=\"color:orangered\">{msg}</b>'))\n",
    "\n",
    "# Для выявления ненужных атрибутов (числовых)\n",
    "def min_eq_max(df, fn):\n",
    "    res = df[fn]['min'] == df[fn]['max']\n",
    "    if res:\n",
    "        print_warning(f'\"{fn}\" не имеет уникальных значений!')\n",
    "    return res\n",
    "\n",
    "# Для выявления ненужных атрибутов (логических)\n",
    "def check_boolean(df, fn, max_count):\n",
    "    с1 = df[fn][1] if 1 in df.index else 0\n",
    "    с0 = df[fn][0] if 0 in df.index else 0\n",
    "    if с1 == max_count:\n",
    "        print_warning(f'\"{fn}\" имеет только значение равное 1!')\n",
    "    elif с0 == max_count:\n",
    "        print_warning(f'\"{fn}\" имеет только значение равное 0!')\n",
    "    elif с1 + с0 != max_count:\n",
    "        print_warning(f'\"{fn}\" имеет еще какие-то значения, кроме 0 и 1!')\n",
    "\n",
    "# Отображает информацию о конкретном атрибуте\n",
    "def show_info(fn):\n",
    "    if fn in category_fn:\n",
    "        display(Markdown('**Тип:** категория.'))\n",
    "        df = get_df(fn, pd.Series.value_counts)\n",
    "        for i in range(0, df.shape[0], 10):\n",
    "            display(df.T.iloc[:, i:i+10].dropna(how='all'))\n",
    "        # Подсчёт атриубтов, которых нет в data_10k\n",
    "        сount_nan = df[info_cols[0]].isna().sum()\n",
    "        if сount_nan:\n",
    "            print_warning(f\"В наборе {info_cols[3]} имеются \" + \n",
    "                f\"{сount_nan} категорий, которых нет в {info_cols[3]}!\")\n",
    "    elif fn in boolean_fn:\n",
    "        display(Markdown('**Тип:** логическое значение (1 - Да, 0 - Нет).'))\n",
    "        df = get_df(fn, pd.Series.value_counts)\n",
    "        display(df.T)\n",
    "        # Проверка, что имеются значения 0 и 1, и больше никаких\n",
    "        check_boolean(df, info_cols[0], data_10k.shape[0])\n",
    "        check_boolean(df, info_cols[3], data_50k.shape[0])    \n",
    "    else:\n",
    "        display(Markdown(f'**Тип:** числовое значение ({data_50k[fn].dtype}).'))\n",
    "        df = get_df(fn, pd.DataFrame.describe)\n",
    "        display(df.T.round(2))\n",
    "        # Проверка, что есть уникальные значения\n",
    "        if not min_eq_max(df, info_cols[0]):\n",
    "            _ = min_eq_max(df, info_cols[1])\n",
    "            _ = min_eq_max(df, info_cols[2])\n",
    "        _ = min_eq_max(df, info_cols[3])"
   ]
  },
  {
   "cell_type": "markdown",
   "metadata": {},
   "source": [
    "#### 2.2.2. Основные характеристики каждого вектора сетевого подключения <a id=\"fg2\"></a>"
   ]
  },
  {
   "cell_type": "markdown",
   "metadata": {},
   "source": [
    "**0) duration:** <a id=\"f0\"></a>длительность соединения."
   ]
  },
  {
   "cell_type": "code",
   "execution_count": 9,
   "metadata": {},
   "outputs": [
    {
     "data": {
      "text/markdown": [
       "**Тип:** числовое значение (int64)."
      ],
      "text/plain": [
       "<IPython.core.display.Markdown object>"
      ]
     },
     "metadata": {},
     "output_type": "display_data"
    },
    {
     "data": {
      "text/html": [
       "<div>\n",
       "<style scoped>\n",
       "    .dataframe tbody tr th:only-of-type {\n",
       "        vertical-align: middle;\n",
       "    }\n",
       "\n",
       "    .dataframe tbody tr th {\n",
       "        vertical-align: top;\n",
       "    }\n",
       "\n",
       "    .dataframe thead th {\n",
       "        text-align: right;\n",
       "    }\n",
       "</style>\n",
       "<table border=\"1\" class=\"dataframe\">\n",
       "  <thead>\n",
       "    <tr style=\"text-align: right;\">\n",
       "      <th></th>\n",
       "      <th>count</th>\n",
       "      <th>mean</th>\n",
       "      <th>std</th>\n",
       "      <th>min</th>\n",
       "      <th>25%</th>\n",
       "      <th>50%</th>\n",
       "      <th>75%</th>\n",
       "      <th>max</th>\n",
       "    </tr>\n",
       "  </thead>\n",
       "  <tbody>\n",
       "    <tr>\n",
       "      <th>data_10k</th>\n",
       "      <td>10000.0</td>\n",
       "      <td>2.68</td>\n",
       "      <td>164.81</td>\n",
       "      <td>0.0</td>\n",
       "      <td>0.0</td>\n",
       "      <td>0.0</td>\n",
       "      <td>0.0</td>\n",
       "      <td>12454.0</td>\n",
       "    </tr>\n",
       "    <tr>\n",
       "      <th>[Y=1] data_10k</th>\n",
       "      <td>2213.0</td>\n",
       "      <td>0.27</td>\n",
       "      <td>7.77</td>\n",
       "      <td>0.0</td>\n",
       "      <td>0.0</td>\n",
       "      <td>0.0</td>\n",
       "      <td>0.0</td>\n",
       "      <td>305.0</td>\n",
       "    </tr>\n",
       "    <tr>\n",
       "      <th>[Y=0] data_10k</th>\n",
       "      <td>7787.0</td>\n",
       "      <td>3.37</td>\n",
       "      <td>186.72</td>\n",
       "      <td>0.0</td>\n",
       "      <td>0.0</td>\n",
       "      <td>0.0</td>\n",
       "      <td>0.0</td>\n",
       "      <td>12454.0</td>\n",
       "    </tr>\n",
       "    <tr>\n",
       "      <th>data_50k</th>\n",
       "      <td>50000.0</td>\n",
       "      <td>3.21</td>\n",
       "      <td>184.88</td>\n",
       "      <td>0.0</td>\n",
       "      <td>0.0</td>\n",
       "      <td>0.0</td>\n",
       "      <td>0.0</td>\n",
       "      <td>25602.0</td>\n",
       "    </tr>\n",
       "  </tbody>\n",
       "</table>\n",
       "</div>"
      ],
      "text/plain": [
       "                  count  mean     std  min  25%  50%  75%      max\n",
       "data_10k        10000.0  2.68  164.81  0.0  0.0  0.0  0.0  12454.0\n",
       "[Y=1] data_10k   2213.0  0.27    7.77  0.0  0.0  0.0  0.0    305.0\n",
       "[Y=0] data_10k   7787.0  3.37  186.72  0.0  0.0  0.0  0.0  12454.0\n",
       "data_50k        50000.0  3.21  184.88  0.0  0.0  0.0  0.0  25602.0"
      ]
     },
     "metadata": {},
     "output_type": "display_data"
    }
   ],
   "source": [
    "show_info('duration')"
   ]
  },
  {
   "cell_type": "markdown",
   "metadata": {},
   "source": [
    "**1) protocol_type:** <a id=\"f1\"></a>протокол, используемый в соединении."
   ]
  },
  {
   "cell_type": "code",
   "execution_count": 10,
   "metadata": {},
   "outputs": [
    {
     "data": {
      "text/markdown": [
       "**Тип:** категория."
      ],
      "text/plain": [
       "<IPython.core.display.Markdown object>"
      ]
     },
     "metadata": {},
     "output_type": "display_data"
    },
    {
     "data": {
      "text/html": [
       "<div>\n",
       "<style scoped>\n",
       "    .dataframe tbody tr th:only-of-type {\n",
       "        vertical-align: middle;\n",
       "    }\n",
       "\n",
       "    .dataframe tbody tr th {\n",
       "        vertical-align: top;\n",
       "    }\n",
       "\n",
       "    .dataframe thead th {\n",
       "        text-align: right;\n",
       "    }\n",
       "</style>\n",
       "<table border=\"1\" class=\"dataframe\">\n",
       "  <thead>\n",
       "    <tr style=\"text-align: right;\">\n",
       "      <th>protocol_type</th>\n",
       "      <th>tcp</th>\n",
       "      <th>icmp</th>\n",
       "      <th>udp</th>\n",
       "    </tr>\n",
       "  </thead>\n",
       "  <tbody>\n",
       "    <tr>\n",
       "      <th>data_10k</th>\n",
       "      <td>7622.0</td>\n",
       "      <td>2233.0</td>\n",
       "      <td>145.0</td>\n",
       "    </tr>\n",
       "    <tr>\n",
       "      <th>[Y=1] data_10k</th>\n",
       "      <td>6.0</td>\n",
       "      <td>2207.0</td>\n",
       "      <td>NaN</td>\n",
       "    </tr>\n",
       "    <tr>\n",
       "      <th>[Y=0] data_10k</th>\n",
       "      <td>7616.0</td>\n",
       "      <td>26.0</td>\n",
       "      <td>145.0</td>\n",
       "    </tr>\n",
       "    <tr>\n",
       "      <th>data_50k</th>\n",
       "      <td>38756.0</td>\n",
       "      <td>9831.0</td>\n",
       "      <td>1413.0</td>\n",
       "    </tr>\n",
       "  </tbody>\n",
       "</table>\n",
       "</div>"
      ],
      "text/plain": [
       "protocol_type       tcp    icmp     udp\n",
       "data_10k         7622.0  2233.0   145.0\n",
       "[Y=1] data_10k      6.0  2207.0     NaN\n",
       "[Y=0] data_10k   7616.0    26.0   145.0\n",
       "data_50k        38756.0  9831.0  1413.0"
      ]
     },
     "metadata": {},
     "output_type": "display_data"
    }
   ],
   "source": [
    "show_info('protocol_type')"
   ]
  },
  {
   "cell_type": "markdown",
   "metadata": {},
   "source": [
    "**2) service:** <a id=\"f2\"></a>используемая служба сети назначения."
   ]
  },
  {
   "cell_type": "code",
   "execution_count": 11,
   "metadata": {},
   "outputs": [
    {
     "data": {
      "text/markdown": [
       "**Тип:** категория."
      ],
      "text/plain": [
       "<IPython.core.display.Markdown object>"
      ]
     },
     "metadata": {},
     "output_type": "display_data"
    },
    {
     "data": {
      "text/html": [
       "<div>\n",
       "<style scoped>\n",
       "    .dataframe tbody tr th:only-of-type {\n",
       "        vertical-align: middle;\n",
       "    }\n",
       "\n",
       "    .dataframe tbody tr th {\n",
       "        vertical-align: top;\n",
       "    }\n",
       "\n",
       "    .dataframe thead th {\n",
       "        text-align: right;\n",
       "    }\n",
       "</style>\n",
       "<table border=\"1\" class=\"dataframe\">\n",
       "  <thead>\n",
       "    <tr style=\"text-align: right;\">\n",
       "      <th>service</th>\n",
       "      <th>http</th>\n",
       "      <th>ecr_i</th>\n",
       "      <th>smtp</th>\n",
       "      <th>domain_u</th>\n",
       "      <th>finger</th>\n",
       "      <th>ftp</th>\n",
       "      <th>ntp_u</th>\n",
       "      <th>auth</th>\n",
       "      <th>telnet</th>\n",
       "      <th>eco_i</th>\n",
       "    </tr>\n",
       "  </thead>\n",
       "  <tbody>\n",
       "    <tr>\n",
       "      <th>data_10k</th>\n",
       "      <td>6947.0</td>\n",
       "      <td>2225.0</td>\n",
       "      <td>571.0</td>\n",
       "      <td>128.0</td>\n",
       "      <td>40.0</td>\n",
       "      <td>28.0</td>\n",
       "      <td>17.0</td>\n",
       "      <td>15.0</td>\n",
       "      <td>13.0</td>\n",
       "      <td>8.0</td>\n",
       "    </tr>\n",
       "    <tr>\n",
       "      <th>[Y=1] data_10k</th>\n",
       "      <td>NaN</td>\n",
       "      <td>2207.0</td>\n",
       "      <td>NaN</td>\n",
       "      <td>NaN</td>\n",
       "      <td>NaN</td>\n",
       "      <td>NaN</td>\n",
       "      <td>NaN</td>\n",
       "      <td>NaN</td>\n",
       "      <td>6.0</td>\n",
       "      <td>NaN</td>\n",
       "    </tr>\n",
       "    <tr>\n",
       "      <th>[Y=0] data_10k</th>\n",
       "      <td>6947.0</td>\n",
       "      <td>18.0</td>\n",
       "      <td>571.0</td>\n",
       "      <td>128.0</td>\n",
       "      <td>40.0</td>\n",
       "      <td>28.0</td>\n",
       "      <td>17.0</td>\n",
       "      <td>15.0</td>\n",
       "      <td>7.0</td>\n",
       "      <td>8.0</td>\n",
       "    </tr>\n",
       "    <tr>\n",
       "      <th>data_50k</th>\n",
       "      <td>27893.0</td>\n",
       "      <td>9161.0</td>\n",
       "      <td>2637.0</td>\n",
       "      <td>1146.0</td>\n",
       "      <td>137.0</td>\n",
       "      <td>142.0</td>\n",
       "      <td>141.0</td>\n",
       "      <td>82.0</td>\n",
       "      <td>129.0</td>\n",
       "      <td>670.0</td>\n",
       "    </tr>\n",
       "  </tbody>\n",
       "</table>\n",
       "</div>"
      ],
      "text/plain": [
       "service            http   ecr_i    smtp  domain_u  finger    ftp  ntp_u  auth  \\\n",
       "data_10k         6947.0  2225.0   571.0     128.0    40.0   28.0   17.0  15.0   \n",
       "[Y=1] data_10k      NaN  2207.0     NaN       NaN     NaN    NaN    NaN   NaN   \n",
       "[Y=0] data_10k   6947.0    18.0   571.0     128.0    40.0   28.0   17.0  15.0   \n",
       "data_50k        27893.0  9161.0  2637.0    1146.0   137.0  142.0  141.0  82.0   \n",
       "\n",
       "service         telnet  eco_i  \n",
       "data_10k          13.0    8.0  \n",
       "[Y=1] data_10k     6.0    NaN  \n",
       "[Y=0] data_10k     7.0    8.0  \n",
       "data_50k         129.0  670.0  "
      ]
     },
     "metadata": {},
     "output_type": "display_data"
    },
    {
     "data": {
      "text/html": [
       "<div>\n",
       "<style scoped>\n",
       "    .dataframe tbody tr th:only-of-type {\n",
       "        vertical-align: middle;\n",
       "    }\n",
       "\n",
       "    .dataframe tbody tr th {\n",
       "        vertical-align: top;\n",
       "    }\n",
       "\n",
       "    .dataframe thead th {\n",
       "        text-align: right;\n",
       "    }\n",
       "</style>\n",
       "<table border=\"1\" class=\"dataframe\">\n",
       "  <thead>\n",
       "    <tr style=\"text-align: right;\">\n",
       "      <th>service</th>\n",
       "      <th>other</th>\n",
       "      <th>private</th>\n",
       "      <th>ftp_data</th>\n",
       "      <th>pop_3</th>\n",
       "      <th>time</th>\n",
       "      <th>gopher</th>\n",
       "      <th>rje</th>\n",
       "      <th>sunrpc</th>\n",
       "      <th>whois</th>\n",
       "      <th>hostnames</th>\n",
       "    </tr>\n",
       "  </thead>\n",
       "  <tbody>\n",
       "    <tr>\n",
       "      <th>data_10k</th>\n",
       "      <td>8.0</td>\n",
       "      <td>NaN</td>\n",
       "      <td>NaN</td>\n",
       "      <td>NaN</td>\n",
       "      <td>NaN</td>\n",
       "      <td>NaN</td>\n",
       "      <td>NaN</td>\n",
       "      <td>NaN</td>\n",
       "      <td>NaN</td>\n",
       "      <td>NaN</td>\n",
       "    </tr>\n",
       "    <tr>\n",
       "      <th>[Y=0] data_10k</th>\n",
       "      <td>8.0</td>\n",
       "      <td>NaN</td>\n",
       "      <td>NaN</td>\n",
       "      <td>NaN</td>\n",
       "      <td>NaN</td>\n",
       "      <td>NaN</td>\n",
       "      <td>NaN</td>\n",
       "      <td>NaN</td>\n",
       "      <td>NaN</td>\n",
       "      <td>NaN</td>\n",
       "    </tr>\n",
       "    <tr>\n",
       "      <th>data_50k</th>\n",
       "      <td>13.0</td>\n",
       "      <td>6371.0</td>\n",
       "      <td>1095.0</td>\n",
       "      <td>38.0</td>\n",
       "      <td>16.0</td>\n",
       "      <td>13.0</td>\n",
       "      <td>12.0</td>\n",
       "      <td>12.0</td>\n",
       "      <td>11.0</td>\n",
       "      <td>10.0</td>\n",
       "    </tr>\n",
       "  </tbody>\n",
       "</table>\n",
       "</div>"
      ],
      "text/plain": [
       "service         other  private  ftp_data  pop_3  time  gopher   rje  sunrpc  \\\n",
       "data_10k          8.0      NaN       NaN    NaN   NaN     NaN   NaN     NaN   \n",
       "[Y=0] data_10k    8.0      NaN       NaN    NaN   NaN     NaN   NaN     NaN   \n",
       "data_50k         13.0   6371.0    1095.0   38.0  16.0    13.0  12.0    12.0   \n",
       "\n",
       "service         whois  hostnames  \n",
       "data_10k          NaN        NaN  \n",
       "[Y=0] data_10k    NaN        NaN  \n",
       "data_50k         11.0       10.0  "
      ]
     },
     "metadata": {},
     "output_type": "display_data"
    },
    {
     "data": {
      "text/html": [
       "<div>\n",
       "<style scoped>\n",
       "    .dataframe tbody tr th:only-of-type {\n",
       "        vertical-align: middle;\n",
       "    }\n",
       "\n",
       "    .dataframe tbody tr th {\n",
       "        vertical-align: top;\n",
       "    }\n",
       "\n",
       "    .dataframe thead th {\n",
       "        text-align: right;\n",
       "    }\n",
       "</style>\n",
       "<table border=\"1\" class=\"dataframe\">\n",
       "  <thead>\n",
       "    <tr style=\"text-align: right;\">\n",
       "      <th>service</th>\n",
       "      <th>csnet_ns</th>\n",
       "      <th>domain</th>\n",
       "      <th>link</th>\n",
       "      <th>login</th>\n",
       "      <th>netbios_dgm</th>\n",
       "      <th>ssh</th>\n",
       "      <th>mtp</th>\n",
       "      <th>sql_net</th>\n",
       "      <th>uucp_path</th>\n",
       "      <th>pop_2</th>\n",
       "    </tr>\n",
       "  </thead>\n",
       "  <tbody>\n",
       "    <tr>\n",
       "      <th>data_50k</th>\n",
       "      <td>10.0</td>\n",
       "      <td>10.0</td>\n",
       "      <td>10.0</td>\n",
       "      <td>9.0</td>\n",
       "      <td>9.0</td>\n",
       "      <td>9.0</td>\n",
       "      <td>9.0</td>\n",
       "      <td>8.0</td>\n",
       "      <td>8.0</td>\n",
       "      <td>8.0</td>\n",
       "    </tr>\n",
       "  </tbody>\n",
       "</table>\n",
       "</div>"
      ],
      "text/plain": [
       "service   csnet_ns  domain  link  login  netbios_dgm  ssh  mtp  sql_net  \\\n",
       "data_50k      10.0    10.0  10.0    9.0          9.0  9.0  9.0      8.0   \n",
       "\n",
       "service   uucp_path  pop_2  \n",
       "data_50k        8.0    8.0  "
      ]
     },
     "metadata": {},
     "output_type": "display_data"
    },
    {
     "data": {
      "text/html": [
       "<div>\n",
       "<style scoped>\n",
       "    .dataframe tbody tr th:only-of-type {\n",
       "        vertical-align: middle;\n",
       "    }\n",
       "\n",
       "    .dataframe tbody tr th {\n",
       "        vertical-align: top;\n",
       "    }\n",
       "\n",
       "    .dataframe thead th {\n",
       "        text-align: right;\n",
       "    }\n",
       "</style>\n",
       "<table border=\"1\" class=\"dataframe\">\n",
       "  <thead>\n",
       "    <tr style=\"text-align: right;\">\n",
       "      <th>service</th>\n",
       "      <th>bgp</th>\n",
       "      <th>systat</th>\n",
       "      <th>iso_tsap</th>\n",
       "      <th>supdup</th>\n",
       "      <th>shell</th>\n",
       "      <th>imap4</th>\n",
       "      <th>http_443</th>\n",
       "      <th>nntp</th>\n",
       "      <th>klogin</th>\n",
       "      <th>remote_job</th>\n",
       "    </tr>\n",
       "  </thead>\n",
       "  <tbody>\n",
       "    <tr>\n",
       "      <th>data_50k</th>\n",
       "      <td>8.0</td>\n",
       "      <td>8.0</td>\n",
       "      <td>8.0</td>\n",
       "      <td>8.0</td>\n",
       "      <td>8.0</td>\n",
       "      <td>8.0</td>\n",
       "      <td>8.0</td>\n",
       "      <td>7.0</td>\n",
       "      <td>7.0</td>\n",
       "      <td>7.0</td>\n",
       "    </tr>\n",
       "  </tbody>\n",
       "</table>\n",
       "</div>"
      ],
      "text/plain": [
       "service   bgp  systat  iso_tsap  supdup  shell  imap4  http_443  nntp  klogin  \\\n",
       "data_50k  8.0     8.0       8.0     8.0    8.0    8.0       8.0   7.0     7.0   \n",
       "\n",
       "service   remote_job  \n",
       "data_50k         7.0  "
      ]
     },
     "metadata": {},
     "output_type": "display_data"
    },
    {
     "data": {
      "text/html": [
       "<div>\n",
       "<style scoped>\n",
       "    .dataframe tbody tr th:only-of-type {\n",
       "        vertical-align: middle;\n",
       "    }\n",
       "\n",
       "    .dataframe tbody tr th {\n",
       "        vertical-align: top;\n",
       "    }\n",
       "\n",
       "    .dataframe thead th {\n",
       "        text-align: right;\n",
       "    }\n",
       "</style>\n",
       "<table border=\"1\" class=\"dataframe\">\n",
       "  <thead>\n",
       "    <tr style=\"text-align: right;\">\n",
       "      <th>service</th>\n",
       "      <th>vmnet</th>\n",
       "      <th>discard</th>\n",
       "      <th>netbios_ssn</th>\n",
       "      <th>netbios_ns</th>\n",
       "      <th>daytime</th>\n",
       "      <th>ctf</th>\n",
       "      <th>Z39_50</th>\n",
       "      <th>name</th>\n",
       "      <th>efs</th>\n",
       "      <th>courier</th>\n",
       "    </tr>\n",
       "  </thead>\n",
       "  <tbody>\n",
       "    <tr>\n",
       "      <th>data_50k</th>\n",
       "      <td>7.0</td>\n",
       "      <td>7.0</td>\n",
       "      <td>7.0</td>\n",
       "      <td>7.0</td>\n",
       "      <td>7.0</td>\n",
       "      <td>6.0</td>\n",
       "      <td>6.0</td>\n",
       "      <td>6.0</td>\n",
       "      <td>6.0</td>\n",
       "      <td>6.0</td>\n",
       "    </tr>\n",
       "  </tbody>\n",
       "</table>\n",
       "</div>"
      ],
      "text/plain": [
       "service   vmnet  discard  netbios_ssn  netbios_ns  daytime  ctf  Z39_50  name  \\\n",
       "data_50k    7.0      7.0          7.0         7.0      7.0  6.0     6.0   6.0   \n",
       "\n",
       "service   efs  courier  \n",
       "data_50k  6.0      6.0  "
      ]
     },
     "metadata": {},
     "output_type": "display_data"
    },
    {
     "data": {
      "text/html": [
       "<div>\n",
       "<style scoped>\n",
       "    .dataframe tbody tr th:only-of-type {\n",
       "        vertical-align: middle;\n",
       "    }\n",
       "\n",
       "    .dataframe tbody tr th {\n",
       "        vertical-align: top;\n",
       "    }\n",
       "\n",
       "    .dataframe thead th {\n",
       "        text-align: right;\n",
       "    }\n",
       "</style>\n",
       "<table border=\"1\" class=\"dataframe\">\n",
       "  <thead>\n",
       "    <tr style=\"text-align: right;\">\n",
       "      <th>service</th>\n",
       "      <th>uucp</th>\n",
       "      <th>exec</th>\n",
       "      <th>printer</th>\n",
       "      <th>echo</th>\n",
       "      <th>kshell</th>\n",
       "      <th>ldap</th>\n",
       "      <th>nnsp</th>\n",
       "      <th>netstat</th>\n",
       "      <th>IRC</th>\n",
       "    </tr>\n",
       "  </thead>\n",
       "  <tbody>\n",
       "    <tr>\n",
       "      <th>data_50k</th>\n",
       "      <td>6.0</td>\n",
       "      <td>5.0</td>\n",
       "      <td>5.0</td>\n",
       "      <td>5.0</td>\n",
       "      <td>5.0</td>\n",
       "      <td>5.0</td>\n",
       "      <td>4.0</td>\n",
       "      <td>3.0</td>\n",
       "      <td>1.0</td>\n",
       "    </tr>\n",
       "  </tbody>\n",
       "</table>\n",
       "</div>"
      ],
      "text/plain": [
       "service   uucp  exec  printer  echo  kshell  ldap  nnsp  netstat  IRC\n",
       "data_50k   6.0   5.0      5.0   5.0     5.0   5.0   4.0      3.0  1.0"
      ]
     },
     "metadata": {},
     "output_type": "display_data"
    },
    {
     "data": {
      "text/html": [
       "<b style=\"color:orangered\">В наборе data_50k имеются 48 категорий, которых нет в data_50k!</b>"
      ],
      "text/plain": [
       "<IPython.core.display.HTML object>"
      ]
     },
     "metadata": {},
     "output_type": "display_data"
    }
   ],
   "source": [
    "show_info('service')"
   ]
  },
  {
   "cell_type": "markdown",
   "metadata": {},
   "source": [
    "**3) flag:** <a id=\"f3\"></a>состояние соединения - нормальное или ошибка."
   ]
  },
  {
   "cell_type": "code",
   "execution_count": 12,
   "metadata": {},
   "outputs": [
    {
     "data": {
      "text/markdown": [
       "**Тип:** категория."
      ],
      "text/plain": [
       "<IPython.core.display.Markdown object>"
      ]
     },
     "metadata": {},
     "output_type": "display_data"
    },
    {
     "data": {
      "text/html": [
       "<div>\n",
       "<style scoped>\n",
       "    .dataframe tbody tr th:only-of-type {\n",
       "        vertical-align: middle;\n",
       "    }\n",
       "\n",
       "    .dataframe tbody tr th {\n",
       "        vertical-align: top;\n",
       "    }\n",
       "\n",
       "    .dataframe thead th {\n",
       "        text-align: right;\n",
       "    }\n",
       "</style>\n",
       "<table border=\"1\" class=\"dataframe\">\n",
       "  <thead>\n",
       "    <tr style=\"text-align: right;\">\n",
       "      <th>flag</th>\n",
       "      <th>SF</th>\n",
       "      <th>REJ</th>\n",
       "      <th>S1</th>\n",
       "      <th>S0</th>\n",
       "      <th>S2</th>\n",
       "      <th>SH</th>\n",
       "      <th>RSTR</th>\n",
       "      <th>RSTO</th>\n",
       "      <th>RSTOS0</th>\n",
       "      <th>S3</th>\n",
       "    </tr>\n",
       "  </thead>\n",
       "  <tbody>\n",
       "    <tr>\n",
       "      <th>data_10k</th>\n",
       "      <td>9983.0</td>\n",
       "      <td>8.0</td>\n",
       "      <td>6.0</td>\n",
       "      <td>2.0</td>\n",
       "      <td>1.0</td>\n",
       "      <td>NaN</td>\n",
       "      <td>NaN</td>\n",
       "      <td>NaN</td>\n",
       "      <td>NaN</td>\n",
       "      <td>NaN</td>\n",
       "    </tr>\n",
       "    <tr>\n",
       "      <th>[Y=1] data_10k</th>\n",
       "      <td>2211.0</td>\n",
       "      <td>NaN</td>\n",
       "      <td>NaN</td>\n",
       "      <td>2.0</td>\n",
       "      <td>NaN</td>\n",
       "      <td>NaN</td>\n",
       "      <td>NaN</td>\n",
       "      <td>NaN</td>\n",
       "      <td>NaN</td>\n",
       "      <td>NaN</td>\n",
       "    </tr>\n",
       "    <tr>\n",
       "      <th>[Y=0] data_10k</th>\n",
       "      <td>7772.0</td>\n",
       "      <td>8.0</td>\n",
       "      <td>6.0</td>\n",
       "      <td>NaN</td>\n",
       "      <td>1.0</td>\n",
       "      <td>NaN</td>\n",
       "      <td>NaN</td>\n",
       "      <td>NaN</td>\n",
       "      <td>NaN</td>\n",
       "      <td>NaN</td>\n",
       "    </tr>\n",
       "    <tr>\n",
       "      <th>data_50k</th>\n",
       "      <td>42059.0</td>\n",
       "      <td>1222.0</td>\n",
       "      <td>21.0</td>\n",
       "      <td>6436.0</td>\n",
       "      <td>5.0</td>\n",
       "      <td>103.0</td>\n",
       "      <td>89.0</td>\n",
       "      <td>51.0</td>\n",
       "      <td>10.0</td>\n",
       "      <td>3.0</td>\n",
       "    </tr>\n",
       "  </tbody>\n",
       "</table>\n",
       "</div>"
      ],
      "text/plain": [
       "flag                 SF     REJ    S1      S0   S2     SH  RSTR  RSTO  RSTOS0  \\\n",
       "data_10k         9983.0     8.0   6.0     2.0  1.0    NaN   NaN   NaN     NaN   \n",
       "[Y=1] data_10k   2211.0     NaN   NaN     2.0  NaN    NaN   NaN   NaN     NaN   \n",
       "[Y=0] data_10k   7772.0     8.0   6.0     NaN  1.0    NaN   NaN   NaN     NaN   \n",
       "data_50k        42059.0  1222.0  21.0  6436.0  5.0  103.0  89.0  51.0    10.0   \n",
       "\n",
       "flag             S3  \n",
       "data_10k        NaN  \n",
       "[Y=1] data_10k  NaN  \n",
       "[Y=0] data_10k  NaN  \n",
       "data_50k        3.0  "
      ]
     },
     "metadata": {},
     "output_type": "display_data"
    },
    {
     "data": {
      "text/html": [
       "<div>\n",
       "<style scoped>\n",
       "    .dataframe tbody tr th:only-of-type {\n",
       "        vertical-align: middle;\n",
       "    }\n",
       "\n",
       "    .dataframe tbody tr th {\n",
       "        vertical-align: top;\n",
       "    }\n",
       "\n",
       "    .dataframe thead th {\n",
       "        text-align: right;\n",
       "    }\n",
       "</style>\n",
       "<table border=\"1\" class=\"dataframe\">\n",
       "  <thead>\n",
       "    <tr style=\"text-align: right;\">\n",
       "      <th>flag</th>\n",
       "      <th>OTH</th>\n",
       "    </tr>\n",
       "  </thead>\n",
       "  <tbody>\n",
       "    <tr>\n",
       "      <th>data_50k</th>\n",
       "      <td>1.0</td>\n",
       "    </tr>\n",
       "  </tbody>\n",
       "</table>\n",
       "</div>"
      ],
      "text/plain": [
       "flag      OTH\n",
       "data_50k  1.0"
      ]
     },
     "metadata": {},
     "output_type": "display_data"
    },
    {
     "data": {
      "text/html": [
       "<b style=\"color:orangered\">В наборе data_50k имеются 6 категорий, которых нет в data_50k!</b>"
      ],
      "text/plain": [
       "<IPython.core.display.HTML object>"
      ]
     },
     "metadata": {},
     "output_type": "display_data"
    }
   ],
   "source": [
    "show_info('flag')"
   ]
  },
  {
   "cell_type": "markdown",
   "metadata": {},
   "source": [
    "**4) src_bytes:** <a id=\"f4\"></a>\n",
    "количество байт данных, переданных от источника к получателю в одном соединении."
   ]
  },
  {
   "cell_type": "code",
   "execution_count": 13,
   "metadata": {},
   "outputs": [
    {
     "data": {
      "text/markdown": [
       "**Тип:** числовое значение (int64)."
      ],
      "text/plain": [
       "<IPython.core.display.Markdown object>"
      ]
     },
     "metadata": {},
     "output_type": "display_data"
    },
    {
     "data": {
      "text/html": [
       "<div>\n",
       "<style scoped>\n",
       "    .dataframe tbody tr th:only-of-type {\n",
       "        vertical-align: middle;\n",
       "    }\n",
       "\n",
       "    .dataframe tbody tr th {\n",
       "        vertical-align: top;\n",
       "    }\n",
       "\n",
       "    .dataframe thead th {\n",
       "        text-align: right;\n",
       "    }\n",
       "</style>\n",
       "<table border=\"1\" class=\"dataframe\">\n",
       "  <thead>\n",
       "    <tr style=\"text-align: right;\">\n",
       "      <th></th>\n",
       "      <th>count</th>\n",
       "      <th>mean</th>\n",
       "      <th>std</th>\n",
       "      <th>min</th>\n",
       "      <th>25%</th>\n",
       "      <th>50%</th>\n",
       "      <th>75%</th>\n",
       "      <th>max</th>\n",
       "    </tr>\n",
       "  </thead>\n",
       "  <tbody>\n",
       "    <tr>\n",
       "      <th>data_10k</th>\n",
       "      <td>10000.0</td>\n",
       "      <td>514.46</td>\n",
       "      <td>687.75</td>\n",
       "      <td>0.0</td>\n",
       "      <td>222.0</td>\n",
       "      <td>293.0</td>\n",
       "      <td>1032.0</td>\n",
       "      <td>19721.0</td>\n",
       "    </tr>\n",
       "    <tr>\n",
       "      <th>[Y=1] data_10k</th>\n",
       "      <td>2213.0</td>\n",
       "      <td>1030.92</td>\n",
       "      <td>42.51</td>\n",
       "      <td>0.0</td>\n",
       "      <td>1032.0</td>\n",
       "      <td>1032.0</td>\n",
       "      <td>1032.0</td>\n",
       "      <td>1735.0</td>\n",
       "    </tr>\n",
       "    <tr>\n",
       "      <th>[Y=0] data_10k</th>\n",
       "      <td>7787.0</td>\n",
       "      <td>367.69</td>\n",
       "      <td>713.84</td>\n",
       "      <td>0.0</td>\n",
       "      <td>215.0</td>\n",
       "      <td>249.0</td>\n",
       "      <td>314.0</td>\n",
       "      <td>19721.0</td>\n",
       "    </tr>\n",
       "    <tr>\n",
       "      <th>data_50k</th>\n",
       "      <td>50000.0</td>\n",
       "      <td>16940.21</td>\n",
       "      <td>3100986.65</td>\n",
       "      <td>0.0</td>\n",
       "      <td>198.0</td>\n",
       "      <td>276.0</td>\n",
       "      <td>1032.0</td>\n",
       "      <td>693375640.0</td>\n",
       "    </tr>\n",
       "  </tbody>\n",
       "</table>\n",
       "</div>"
      ],
      "text/plain": [
       "                  count      mean         std  min     25%     50%     75%  \\\n",
       "data_10k        10000.0    514.46      687.75  0.0   222.0   293.0  1032.0   \n",
       "[Y=1] data_10k   2213.0   1030.92       42.51  0.0  1032.0  1032.0  1032.0   \n",
       "[Y=0] data_10k   7787.0    367.69      713.84  0.0   215.0   249.0   314.0   \n",
       "data_50k        50000.0  16940.21  3100986.65  0.0   198.0   276.0  1032.0   \n",
       "\n",
       "                        max  \n",
       "data_10k            19721.0  \n",
       "[Y=1] data_10k       1735.0  \n",
       "[Y=0] data_10k      19721.0  \n",
       "data_50k        693375640.0  "
      ]
     },
     "metadata": {},
     "output_type": "display_data"
    }
   ],
   "source": [
    "show_info('src_bytes')"
   ]
  },
  {
   "cell_type": "markdown",
   "metadata": {},
   "source": [
    "**5) dst_bytes:** <a id=\"f5\"></a>количество байт данных, переданных от адресата к источнику в одном соединении."
   ]
  },
  {
   "cell_type": "code",
   "execution_count": 14,
   "metadata": {},
   "outputs": [
    {
     "data": {
      "text/markdown": [
       "**Тип:** числовое значение (int64)."
      ],
      "text/plain": [
       "<IPython.core.display.Markdown object>"
      ]
     },
     "metadata": {},
     "output_type": "display_data"
    },
    {
     "data": {
      "text/html": [
       "<div>\n",
       "<style scoped>\n",
       "    .dataframe tbody tr th:only-of-type {\n",
       "        vertical-align: middle;\n",
       "    }\n",
       "\n",
       "    .dataframe tbody tr th {\n",
       "        vertical-align: top;\n",
       "    }\n",
       "\n",
       "    .dataframe thead th {\n",
       "        text-align: right;\n",
       "    }\n",
       "</style>\n",
       "<table border=\"1\" class=\"dataframe\">\n",
       "  <thead>\n",
       "    <tr style=\"text-align: right;\">\n",
       "      <th></th>\n",
       "      <th>count</th>\n",
       "      <th>mean</th>\n",
       "      <th>std</th>\n",
       "      <th>min</th>\n",
       "      <th>25%</th>\n",
       "      <th>50%</th>\n",
       "      <th>75%</th>\n",
       "      <th>max</th>\n",
       "    </tr>\n",
       "  </thead>\n",
       "  <tbody>\n",
       "    <tr>\n",
       "      <th>data_10k</th>\n",
       "      <td>10000.0</td>\n",
       "      <td>3276.09</td>\n",
       "      <td>8775.83</td>\n",
       "      <td>0.0</td>\n",
       "      <td>237.75</td>\n",
       "      <td>891.0</td>\n",
       "      <td>2739.25</td>\n",
       "      <td>271733.0</td>\n",
       "    </tr>\n",
       "    <tr>\n",
       "      <th>[Y=1] data_10k</th>\n",
       "      <td>2213.0</td>\n",
       "      <td>4.23</td>\n",
       "      <td>103.05</td>\n",
       "      <td>0.0</td>\n",
       "      <td>0.00</td>\n",
       "      <td>0.0</td>\n",
       "      <td>0.00</td>\n",
       "      <td>2957.0</td>\n",
       "    </tr>\n",
       "    <tr>\n",
       "      <th>[Y=0] data_10k</th>\n",
       "      <td>7787.0</td>\n",
       "      <td>4205.93</td>\n",
       "      <td>9746.52</td>\n",
       "      <td>0.0</td>\n",
       "      <td>497.50</td>\n",
       "      <td>1471.0</td>\n",
       "      <td>3857.00</td>\n",
       "      <td>271733.0</td>\n",
       "    </tr>\n",
       "    <tr>\n",
       "      <th>data_50k</th>\n",
       "      <td>50000.0</td>\n",
       "      <td>3232.55</td>\n",
       "      <td>32113.59</td>\n",
       "      <td>0.0</td>\n",
       "      <td>0.00</td>\n",
       "      <td>354.0</td>\n",
       "      <td>2227.00</td>\n",
       "      <td>2661605.0</td>\n",
       "    </tr>\n",
       "  </tbody>\n",
       "</table>\n",
       "</div>"
      ],
      "text/plain": [
       "                  count     mean       std  min     25%     50%      75%  \\\n",
       "data_10k        10000.0  3276.09   8775.83  0.0  237.75   891.0  2739.25   \n",
       "[Y=1] data_10k   2213.0     4.23    103.05  0.0    0.00     0.0     0.00   \n",
       "[Y=0] data_10k   7787.0  4205.93   9746.52  0.0  497.50  1471.0  3857.00   \n",
       "data_50k        50000.0  3232.55  32113.59  0.0    0.00   354.0  2227.00   \n",
       "\n",
       "                      max  \n",
       "data_10k         271733.0  \n",
       "[Y=1] data_10k     2957.0  \n",
       "[Y=0] data_10k   271733.0  \n",
       "data_50k        2661605.0  "
      ]
     },
     "metadata": {},
     "output_type": "display_data"
    }
   ],
   "source": [
    "show_info('dst_bytes')"
   ]
  },
  {
   "cell_type": "markdown",
   "metadata": {},
   "source": [
    "**6) land:** <a id=\"f6\"></a>IP-адреса и номера портов источника и назначения равны?"
   ]
  },
  {
   "cell_type": "code",
   "execution_count": 15,
   "metadata": {},
   "outputs": [
    {
     "data": {
      "text/markdown": [
       "**Тип:** логическое значение (1 - Да, 0 - Нет)."
      ],
      "text/plain": [
       "<IPython.core.display.Markdown object>"
      ]
     },
     "metadata": {},
     "output_type": "display_data"
    },
    {
     "data": {
      "text/html": [
       "<div>\n",
       "<style scoped>\n",
       "    .dataframe tbody tr th:only-of-type {\n",
       "        vertical-align: middle;\n",
       "    }\n",
       "\n",
       "    .dataframe tbody tr th {\n",
       "        vertical-align: top;\n",
       "    }\n",
       "\n",
       "    .dataframe thead th {\n",
       "        text-align: right;\n",
       "    }\n",
       "</style>\n",
       "<table border=\"1\" class=\"dataframe\">\n",
       "  <thead>\n",
       "    <tr style=\"text-align: right;\">\n",
       "      <th>land</th>\n",
       "      <th>0</th>\n",
       "      <th>1</th>\n",
       "    </tr>\n",
       "  </thead>\n",
       "  <tbody>\n",
       "    <tr>\n",
       "      <th>data_10k</th>\n",
       "      <td>10000.0</td>\n",
       "      <td>NaN</td>\n",
       "    </tr>\n",
       "    <tr>\n",
       "      <th>[Y=1] data_10k</th>\n",
       "      <td>2213.0</td>\n",
       "      <td>NaN</td>\n",
       "    </tr>\n",
       "    <tr>\n",
       "      <th>[Y=0] data_10k</th>\n",
       "      <td>7787.0</td>\n",
       "      <td>NaN</td>\n",
       "    </tr>\n",
       "    <tr>\n",
       "      <th>data_50k</th>\n",
       "      <td>49999.0</td>\n",
       "      <td>1.0</td>\n",
       "    </tr>\n",
       "  </tbody>\n",
       "</table>\n",
       "</div>"
      ],
      "text/plain": [
       "land                  0    1\n",
       "data_10k        10000.0  NaN\n",
       "[Y=1] data_10k   2213.0  NaN\n",
       "[Y=0] data_10k   7787.0  NaN\n",
       "data_50k        49999.0  1.0"
      ]
     },
     "metadata": {},
     "output_type": "display_data"
    },
    {
     "data": {
      "text/html": [
       "<b style=\"color:orangered\">\"data_10k\" имеет только значение равное 0!</b>"
      ],
      "text/plain": [
       "<IPython.core.display.HTML object>"
      ]
     },
     "metadata": {},
     "output_type": "display_data"
    }
   ],
   "source": [
    "show_info('land')"
   ]
  },
  {
   "cell_type": "markdown",
   "metadata": {},
   "source": [
    "**7) wrong_fragment:** <a id=\"f7\"></a>общее количество ошибочных фрагментов в данном соединении."
   ]
  },
  {
   "cell_type": "code",
   "execution_count": 16,
   "metadata": {},
   "outputs": [
    {
     "data": {
      "text/markdown": [
       "**Тип:** числовое значение (int64)."
      ],
      "text/plain": [
       "<IPython.core.display.Markdown object>"
      ]
     },
     "metadata": {},
     "output_type": "display_data"
    },
    {
     "data": {
      "text/html": [
       "<div>\n",
       "<style scoped>\n",
       "    .dataframe tbody tr th:only-of-type {\n",
       "        vertical-align: middle;\n",
       "    }\n",
       "\n",
       "    .dataframe tbody tr th {\n",
       "        vertical-align: top;\n",
       "    }\n",
       "\n",
       "    .dataframe thead th {\n",
       "        text-align: right;\n",
       "    }\n",
       "</style>\n",
       "<table border=\"1\" class=\"dataframe\">\n",
       "  <thead>\n",
       "    <tr style=\"text-align: right;\">\n",
       "      <th></th>\n",
       "      <th>count</th>\n",
       "      <th>mean</th>\n",
       "      <th>std</th>\n",
       "      <th>min</th>\n",
       "      <th>25%</th>\n",
       "      <th>50%</th>\n",
       "      <th>75%</th>\n",
       "      <th>max</th>\n",
       "    </tr>\n",
       "  </thead>\n",
       "  <tbody>\n",
       "    <tr>\n",
       "      <th>data_10k</th>\n",
       "      <td>10000.0</td>\n",
       "      <td>0.00</td>\n",
       "      <td>0.00</td>\n",
       "      <td>0.0</td>\n",
       "      <td>0.0</td>\n",
       "      <td>0.0</td>\n",
       "      <td>0.0</td>\n",
       "      <td>0.0</td>\n",
       "    </tr>\n",
       "    <tr>\n",
       "      <th>[Y=1] data_10k</th>\n",
       "      <td>2213.0</td>\n",
       "      <td>0.00</td>\n",
       "      <td>0.00</td>\n",
       "      <td>0.0</td>\n",
       "      <td>0.0</td>\n",
       "      <td>0.0</td>\n",
       "      <td>0.0</td>\n",
       "      <td>0.0</td>\n",
       "    </tr>\n",
       "    <tr>\n",
       "      <th>[Y=0] data_10k</th>\n",
       "      <td>7787.0</td>\n",
       "      <td>0.00</td>\n",
       "      <td>0.00</td>\n",
       "      <td>0.0</td>\n",
       "      <td>0.0</td>\n",
       "      <td>0.0</td>\n",
       "      <td>0.0</td>\n",
       "      <td>0.0</td>\n",
       "    </tr>\n",
       "    <tr>\n",
       "      <th>data_50k</th>\n",
       "      <td>50000.0</td>\n",
       "      <td>0.01</td>\n",
       "      <td>0.13</td>\n",
       "      <td>0.0</td>\n",
       "      <td>0.0</td>\n",
       "      <td>0.0</td>\n",
       "      <td>0.0</td>\n",
       "      <td>3.0</td>\n",
       "    </tr>\n",
       "  </tbody>\n",
       "</table>\n",
       "</div>"
      ],
      "text/plain": [
       "                  count  mean   std  min  25%  50%  75%  max\n",
       "data_10k        10000.0  0.00  0.00  0.0  0.0  0.0  0.0  0.0\n",
       "[Y=1] data_10k   2213.0  0.00  0.00  0.0  0.0  0.0  0.0  0.0\n",
       "[Y=0] data_10k   7787.0  0.00  0.00  0.0  0.0  0.0  0.0  0.0\n",
       "data_50k        50000.0  0.01  0.13  0.0  0.0  0.0  0.0  3.0"
      ]
     },
     "metadata": {},
     "output_type": "display_data"
    },
    {
     "data": {
      "text/html": [
       "<b style=\"color:orangered\">\"data_10k\" не имеет уникальных значений!</b>"
      ],
      "text/plain": [
       "<IPython.core.display.HTML object>"
      ]
     },
     "metadata": {},
     "output_type": "display_data"
    }
   ],
   "source": [
    "show_info('wrong_fragment')"
   ]
  },
  {
   "cell_type": "markdown",
   "metadata": {},
   "source": [
    "**8) urgent:** <a id=\"f8\"></a>количество срочных пакетов в данном соединении. Срочные пакеты - это пакеты с активированным битом срочности."
   ]
  },
  {
   "cell_type": "code",
   "execution_count": 17,
   "metadata": {},
   "outputs": [
    {
     "data": {
      "text/markdown": [
       "**Тип:** числовое значение (int64)."
      ],
      "text/plain": [
       "<IPython.core.display.Markdown object>"
      ]
     },
     "metadata": {},
     "output_type": "display_data"
    },
    {
     "data": {
      "text/html": [
       "<div>\n",
       "<style scoped>\n",
       "    .dataframe tbody tr th:only-of-type {\n",
       "        vertical-align: middle;\n",
       "    }\n",
       "\n",
       "    .dataframe tbody tr th {\n",
       "        vertical-align: top;\n",
       "    }\n",
       "\n",
       "    .dataframe thead th {\n",
       "        text-align: right;\n",
       "    }\n",
       "</style>\n",
       "<table border=\"1\" class=\"dataframe\">\n",
       "  <thead>\n",
       "    <tr style=\"text-align: right;\">\n",
       "      <th></th>\n",
       "      <th>count</th>\n",
       "      <th>mean</th>\n",
       "      <th>std</th>\n",
       "      <th>min</th>\n",
       "      <th>25%</th>\n",
       "      <th>50%</th>\n",
       "      <th>75%</th>\n",
       "      <th>max</th>\n",
       "    </tr>\n",
       "  </thead>\n",
       "  <tbody>\n",
       "    <tr>\n",
       "      <th>data_10k</th>\n",
       "      <td>10000.0</td>\n",
       "      <td>0.0</td>\n",
       "      <td>0.00</td>\n",
       "      <td>0.0</td>\n",
       "      <td>0.0</td>\n",
       "      <td>0.0</td>\n",
       "      <td>0.0</td>\n",
       "      <td>0.0</td>\n",
       "    </tr>\n",
       "    <tr>\n",
       "      <th>[Y=1] data_10k</th>\n",
       "      <td>2213.0</td>\n",
       "      <td>0.0</td>\n",
       "      <td>0.00</td>\n",
       "      <td>0.0</td>\n",
       "      <td>0.0</td>\n",
       "      <td>0.0</td>\n",
       "      <td>0.0</td>\n",
       "      <td>0.0</td>\n",
       "    </tr>\n",
       "    <tr>\n",
       "      <th>[Y=0] data_10k</th>\n",
       "      <td>7787.0</td>\n",
       "      <td>0.0</td>\n",
       "      <td>0.00</td>\n",
       "      <td>0.0</td>\n",
       "      <td>0.0</td>\n",
       "      <td>0.0</td>\n",
       "      <td>0.0</td>\n",
       "      <td>0.0</td>\n",
       "    </tr>\n",
       "    <tr>\n",
       "      <th>data_50k</th>\n",
       "      <td>50000.0</td>\n",
       "      <td>0.0</td>\n",
       "      <td>0.01</td>\n",
       "      <td>0.0</td>\n",
       "      <td>0.0</td>\n",
       "      <td>0.0</td>\n",
       "      <td>0.0</td>\n",
       "      <td>2.0</td>\n",
       "    </tr>\n",
       "  </tbody>\n",
       "</table>\n",
       "</div>"
      ],
      "text/plain": [
       "                  count  mean   std  min  25%  50%  75%  max\n",
       "data_10k        10000.0   0.0  0.00  0.0  0.0  0.0  0.0  0.0\n",
       "[Y=1] data_10k   2213.0   0.0  0.00  0.0  0.0  0.0  0.0  0.0\n",
       "[Y=0] data_10k   7787.0   0.0  0.00  0.0  0.0  0.0  0.0  0.0\n",
       "data_50k        50000.0   0.0  0.01  0.0  0.0  0.0  0.0  2.0"
      ]
     },
     "metadata": {},
     "output_type": "display_data"
    },
    {
     "data": {
      "text/html": [
       "<b style=\"color:orangered\">\"data_10k\" не имеет уникальных значений!</b>"
      ],
      "text/plain": [
       "<IPython.core.display.HTML object>"
      ]
     },
     "metadata": {},
     "output_type": "display_data"
    }
   ],
   "source": [
    "show_info('urgent')"
   ]
  },
  {
   "cell_type": "markdown",
   "metadata": {},
   "source": [
    "#### 2.2.3. Контентные характеристики каждого вектора сетевого подключения <a id=\"fg3\"></a>"
   ]
  },
  {
   "cell_type": "markdown",
   "metadata": {},
   "source": [
    "**9) hot:** <a id=\"f9\"></a>количество \"особых\" индикаторов в содержимом, таких как: вход в системный каталог, создание программ и выполнение программ."
   ]
  },
  {
   "cell_type": "code",
   "execution_count": 18,
   "metadata": {},
   "outputs": [
    {
     "data": {
      "text/markdown": [
       "**Тип:** числовое значение (int64)."
      ],
      "text/plain": [
       "<IPython.core.display.Markdown object>"
      ]
     },
     "metadata": {},
     "output_type": "display_data"
    },
    {
     "data": {
      "text/html": [
       "<div>\n",
       "<style scoped>\n",
       "    .dataframe tbody tr th:only-of-type {\n",
       "        vertical-align: middle;\n",
       "    }\n",
       "\n",
       "    .dataframe tbody tr th {\n",
       "        vertical-align: top;\n",
       "    }\n",
       "\n",
       "    .dataframe thead th {\n",
       "        text-align: right;\n",
       "    }\n",
       "</style>\n",
       "<table border=\"1\" class=\"dataframe\">\n",
       "  <thead>\n",
       "    <tr style=\"text-align: right;\">\n",
       "      <th></th>\n",
       "      <th>count</th>\n",
       "      <th>mean</th>\n",
       "      <th>std</th>\n",
       "      <th>min</th>\n",
       "      <th>25%</th>\n",
       "      <th>50%</th>\n",
       "      <th>75%</th>\n",
       "      <th>max</th>\n",
       "    </tr>\n",
       "  </thead>\n",
       "  <tbody>\n",
       "    <tr>\n",
       "      <th>data_10k</th>\n",
       "      <td>10000.0</td>\n",
       "      <td>0.04</td>\n",
       "      <td>0.84</td>\n",
       "      <td>0.0</td>\n",
       "      <td>0.0</td>\n",
       "      <td>0.0</td>\n",
       "      <td>0.0</td>\n",
       "      <td>30.0</td>\n",
       "    </tr>\n",
       "    <tr>\n",
       "      <th>[Y=1] data_10k</th>\n",
       "      <td>2213.0</td>\n",
       "      <td>0.00</td>\n",
       "      <td>0.10</td>\n",
       "      <td>0.0</td>\n",
       "      <td>0.0</td>\n",
       "      <td>0.0</td>\n",
       "      <td>0.0</td>\n",
       "      <td>3.0</td>\n",
       "    </tr>\n",
       "    <tr>\n",
       "      <th>[Y=0] data_10k</th>\n",
       "      <td>7787.0</td>\n",
       "      <td>0.05</td>\n",
       "      <td>0.95</td>\n",
       "      <td>0.0</td>\n",
       "      <td>0.0</td>\n",
       "      <td>0.0</td>\n",
       "      <td>0.0</td>\n",
       "      <td>30.0</td>\n",
       "    </tr>\n",
       "    <tr>\n",
       "      <th>data_50k</th>\n",
       "      <td>50000.0</td>\n",
       "      <td>0.11</td>\n",
       "      <td>0.80</td>\n",
       "      <td>0.0</td>\n",
       "      <td>0.0</td>\n",
       "      <td>0.0</td>\n",
       "      <td>0.0</td>\n",
       "      <td>30.0</td>\n",
       "    </tr>\n",
       "  </tbody>\n",
       "</table>\n",
       "</div>"
      ],
      "text/plain": [
       "                  count  mean   std  min  25%  50%  75%   max\n",
       "data_10k        10000.0  0.04  0.84  0.0  0.0  0.0  0.0  30.0\n",
       "[Y=1] data_10k   2213.0  0.00  0.10  0.0  0.0  0.0  0.0   3.0\n",
       "[Y=0] data_10k   7787.0  0.05  0.95  0.0  0.0  0.0  0.0  30.0\n",
       "data_50k        50000.0  0.11  0.80  0.0  0.0  0.0  0.0  30.0"
      ]
     },
     "metadata": {},
     "output_type": "display_data"
    }
   ],
   "source": [
    "show_info('hot')"
   ]
  },
  {
   "cell_type": "markdown",
   "metadata": {},
   "source": [
    "**10) num_failed_logins:** <a id=\"f10\"></a>количество неудачных попыток входа в систему."
   ]
  },
  {
   "cell_type": "code",
   "execution_count": 19,
   "metadata": {},
   "outputs": [
    {
     "data": {
      "text/markdown": [
       "**Тип:** числовое значение (int64)."
      ],
      "text/plain": [
       "<IPython.core.display.Markdown object>"
      ]
     },
     "metadata": {},
     "output_type": "display_data"
    },
    {
     "data": {
      "text/html": [
       "<div>\n",
       "<style scoped>\n",
       "    .dataframe tbody tr th:only-of-type {\n",
       "        vertical-align: middle;\n",
       "    }\n",
       "\n",
       "    .dataframe tbody tr th {\n",
       "        vertical-align: top;\n",
       "    }\n",
       "\n",
       "    .dataframe thead th {\n",
       "        text-align: right;\n",
       "    }\n",
       "</style>\n",
       "<table border=\"1\" class=\"dataframe\">\n",
       "  <thead>\n",
       "    <tr style=\"text-align: right;\">\n",
       "      <th></th>\n",
       "      <th>count</th>\n",
       "      <th>mean</th>\n",
       "      <th>std</th>\n",
       "      <th>min</th>\n",
       "      <th>25%</th>\n",
       "      <th>50%</th>\n",
       "      <th>75%</th>\n",
       "      <th>max</th>\n",
       "    </tr>\n",
       "  </thead>\n",
       "  <tbody>\n",
       "    <tr>\n",
       "      <th>data_10k</th>\n",
       "      <td>10000.0</td>\n",
       "      <td>0.0</td>\n",
       "      <td>0.00</td>\n",
       "      <td>0.0</td>\n",
       "      <td>0.0</td>\n",
       "      <td>0.0</td>\n",
       "      <td>0.0</td>\n",
       "      <td>0.0</td>\n",
       "    </tr>\n",
       "    <tr>\n",
       "      <th>[Y=1] data_10k</th>\n",
       "      <td>2213.0</td>\n",
       "      <td>0.0</td>\n",
       "      <td>0.00</td>\n",
       "      <td>0.0</td>\n",
       "      <td>0.0</td>\n",
       "      <td>0.0</td>\n",
       "      <td>0.0</td>\n",
       "      <td>0.0</td>\n",
       "    </tr>\n",
       "    <tr>\n",
       "      <th>[Y=0] data_10k</th>\n",
       "      <td>7787.0</td>\n",
       "      <td>0.0</td>\n",
       "      <td>0.00</td>\n",
       "      <td>0.0</td>\n",
       "      <td>0.0</td>\n",
       "      <td>0.0</td>\n",
       "      <td>0.0</td>\n",
       "      <td>0.0</td>\n",
       "    </tr>\n",
       "    <tr>\n",
       "      <th>data_50k</th>\n",
       "      <td>50000.0</td>\n",
       "      <td>0.0</td>\n",
       "      <td>0.04</td>\n",
       "      <td>0.0</td>\n",
       "      <td>0.0</td>\n",
       "      <td>0.0</td>\n",
       "      <td>0.0</td>\n",
       "      <td>5.0</td>\n",
       "    </tr>\n",
       "  </tbody>\n",
       "</table>\n",
       "</div>"
      ],
      "text/plain": [
       "                  count  mean   std  min  25%  50%  75%  max\n",
       "data_10k        10000.0   0.0  0.00  0.0  0.0  0.0  0.0  0.0\n",
       "[Y=1] data_10k   2213.0   0.0  0.00  0.0  0.0  0.0  0.0  0.0\n",
       "[Y=0] data_10k   7787.0   0.0  0.00  0.0  0.0  0.0  0.0  0.0\n",
       "data_50k        50000.0   0.0  0.04  0.0  0.0  0.0  0.0  5.0"
      ]
     },
     "metadata": {},
     "output_type": "display_data"
    },
    {
     "data": {
      "text/html": [
       "<b style=\"color:orangered\">\"data_10k\" не имеет уникальных значений!</b>"
      ],
      "text/plain": [
       "<IPython.core.display.HTML object>"
      ]
     },
     "metadata": {},
     "output_type": "display_data"
    }
   ],
   "source": [
    "show_info('num_failed_logins')"
   ]
  },
  {
   "cell_type": "markdown",
   "metadata": {},
   "source": [
    "**11) logged_in:** <a id=\"f11\"></a>вход в систему прошёл успешно?"
   ]
  },
  {
   "cell_type": "code",
   "execution_count": 20,
   "metadata": {},
   "outputs": [
    {
     "data": {
      "text/markdown": [
       "**Тип:** логическое значение (1 - Да, 0 - Нет)."
      ],
      "text/plain": [
       "<IPython.core.display.Markdown object>"
      ]
     },
     "metadata": {},
     "output_type": "display_data"
    },
    {
     "data": {
      "text/html": [
       "<div>\n",
       "<style scoped>\n",
       "    .dataframe tbody tr th:only-of-type {\n",
       "        vertical-align: middle;\n",
       "    }\n",
       "\n",
       "    .dataframe tbody tr th {\n",
       "        vertical-align: top;\n",
       "    }\n",
       "\n",
       "    .dataframe thead th {\n",
       "        text-align: right;\n",
       "    }\n",
       "</style>\n",
       "<table border=\"1\" class=\"dataframe\">\n",
       "  <thead>\n",
       "    <tr style=\"text-align: right;\">\n",
       "      <th>logged_in</th>\n",
       "      <th>1</th>\n",
       "      <th>0</th>\n",
       "    </tr>\n",
       "  </thead>\n",
       "  <tbody>\n",
       "    <tr>\n",
       "      <th>data_10k</th>\n",
       "      <td>7570</td>\n",
       "      <td>2430</td>\n",
       "    </tr>\n",
       "    <tr>\n",
       "      <th>[Y=1] data_10k</th>\n",
       "      <td>4</td>\n",
       "      <td>2209</td>\n",
       "    </tr>\n",
       "    <tr>\n",
       "      <th>[Y=0] data_10k</th>\n",
       "      <td>7566</td>\n",
       "      <td>221</td>\n",
       "    </tr>\n",
       "    <tr>\n",
       "      <th>data_50k</th>\n",
       "      <td>30590</td>\n",
       "      <td>19410</td>\n",
       "    </tr>\n",
       "  </tbody>\n",
       "</table>\n",
       "</div>"
      ],
      "text/plain": [
       "logged_in           1      0\n",
       "data_10k         7570   2430\n",
       "[Y=1] data_10k      4   2209\n",
       "[Y=0] data_10k   7566    221\n",
       "data_50k        30590  19410"
      ]
     },
     "metadata": {},
     "output_type": "display_data"
    }
   ],
   "source": [
    "show_info('logged_in')"
   ]
  },
  {
   "cell_type": "markdown",
   "metadata": {},
   "source": [
    "**12) num_compromised:** <a id=\"f12\"></a>количество состояний \"compromised\"."
   ]
  },
  {
   "cell_type": "code",
   "execution_count": 21,
   "metadata": {},
   "outputs": [
    {
     "data": {
      "text/markdown": [
       "**Тип:** числовое значение (int64)."
      ],
      "text/plain": [
       "<IPython.core.display.Markdown object>"
      ]
     },
     "metadata": {},
     "output_type": "display_data"
    },
    {
     "data": {
      "text/html": [
       "<div>\n",
       "<style scoped>\n",
       "    .dataframe tbody tr th:only-of-type {\n",
       "        vertical-align: middle;\n",
       "    }\n",
       "\n",
       "    .dataframe tbody tr th {\n",
       "        vertical-align: top;\n",
       "    }\n",
       "\n",
       "    .dataframe thead th {\n",
       "        text-align: right;\n",
       "    }\n",
       "</style>\n",
       "<table border=\"1\" class=\"dataframe\">\n",
       "  <thead>\n",
       "    <tr style=\"text-align: right;\">\n",
       "      <th></th>\n",
       "      <th>count</th>\n",
       "      <th>mean</th>\n",
       "      <th>std</th>\n",
       "      <th>min</th>\n",
       "      <th>25%</th>\n",
       "      <th>50%</th>\n",
       "      <th>75%</th>\n",
       "      <th>max</th>\n",
       "    </tr>\n",
       "  </thead>\n",
       "  <tbody>\n",
       "    <tr>\n",
       "      <th>data_10k</th>\n",
       "      <td>10000.0</td>\n",
       "      <td>0.00</td>\n",
       "      <td>0.04</td>\n",
       "      <td>0.0</td>\n",
       "      <td>0.0</td>\n",
       "      <td>0.0</td>\n",
       "      <td>0.0</td>\n",
       "      <td>2.0</td>\n",
       "    </tr>\n",
       "    <tr>\n",
       "      <th>[Y=1] data_10k</th>\n",
       "      <td>2213.0</td>\n",
       "      <td>0.00</td>\n",
       "      <td>0.06</td>\n",
       "      <td>0.0</td>\n",
       "      <td>0.0</td>\n",
       "      <td>0.0</td>\n",
       "      <td>0.0</td>\n",
       "      <td>2.0</td>\n",
       "    </tr>\n",
       "    <tr>\n",
       "      <th>[Y=0] data_10k</th>\n",
       "      <td>7787.0</td>\n",
       "      <td>0.00</td>\n",
       "      <td>0.03</td>\n",
       "      <td>0.0</td>\n",
       "      <td>0.0</td>\n",
       "      <td>0.0</td>\n",
       "      <td>0.0</td>\n",
       "      <td>2.0</td>\n",
       "    </tr>\n",
       "    <tr>\n",
       "      <th>data_50k</th>\n",
       "      <td>50000.0</td>\n",
       "      <td>0.05</td>\n",
       "      <td>3.44</td>\n",
       "      <td>0.0</td>\n",
       "      <td>0.0</td>\n",
       "      <td>0.0</td>\n",
       "      <td>0.0</td>\n",
       "      <td>767.0</td>\n",
       "    </tr>\n",
       "  </tbody>\n",
       "</table>\n",
       "</div>"
      ],
      "text/plain": [
       "                  count  mean   std  min  25%  50%  75%    max\n",
       "data_10k        10000.0  0.00  0.04  0.0  0.0  0.0  0.0    2.0\n",
       "[Y=1] data_10k   2213.0  0.00  0.06  0.0  0.0  0.0  0.0    2.0\n",
       "[Y=0] data_10k   7787.0  0.00  0.03  0.0  0.0  0.0  0.0    2.0\n",
       "data_50k        50000.0  0.05  3.44  0.0  0.0  0.0  0.0  767.0"
      ]
     },
     "metadata": {},
     "output_type": "display_data"
    }
   ],
   "source": [
    "show_info('num_compromised')"
   ]
  },
  {
   "cell_type": "markdown",
   "metadata": {},
   "source": [
    "**13) root_shell:** <a id=\"f13\"></a>получен ли root shell?"
   ]
  },
  {
   "cell_type": "code",
   "execution_count": 22,
   "metadata": {},
   "outputs": [
    {
     "data": {
      "text/markdown": [
       "**Тип:** логическое значение (1 - Да, 0 - Нет)."
      ],
      "text/plain": [
       "<IPython.core.display.Markdown object>"
      ]
     },
     "metadata": {},
     "output_type": "display_data"
    },
    {
     "data": {
      "text/html": [
       "<div>\n",
       "<style scoped>\n",
       "    .dataframe tbody tr th:only-of-type {\n",
       "        vertical-align: middle;\n",
       "    }\n",
       "\n",
       "    .dataframe tbody tr th {\n",
       "        vertical-align: top;\n",
       "    }\n",
       "\n",
       "    .dataframe thead th {\n",
       "        text-align: right;\n",
       "    }\n",
       "</style>\n",
       "<table border=\"1\" class=\"dataframe\">\n",
       "  <thead>\n",
       "    <tr style=\"text-align: right;\">\n",
       "      <th>root_shell</th>\n",
       "      <th>0</th>\n",
       "      <th>1</th>\n",
       "    </tr>\n",
       "  </thead>\n",
       "  <tbody>\n",
       "    <tr>\n",
       "      <th>data_10k</th>\n",
       "      <td>9991</td>\n",
       "      <td>9</td>\n",
       "    </tr>\n",
       "    <tr>\n",
       "      <th>[Y=1] data_10k</th>\n",
       "      <td>2209</td>\n",
       "      <td>4</td>\n",
       "    </tr>\n",
       "    <tr>\n",
       "      <th>[Y=0] data_10k</th>\n",
       "      <td>7782</td>\n",
       "      <td>5</td>\n",
       "    </tr>\n",
       "    <tr>\n",
       "      <th>data_50k</th>\n",
       "      <td>49989</td>\n",
       "      <td>11</td>\n",
       "    </tr>\n",
       "  </tbody>\n",
       "</table>\n",
       "</div>"
      ],
      "text/plain": [
       "root_shell          0   1\n",
       "data_10k         9991   9\n",
       "[Y=1] data_10k   2209   4\n",
       "[Y=0] data_10k   7782   5\n",
       "data_50k        49989  11"
      ]
     },
     "metadata": {},
     "output_type": "display_data"
    }
   ],
   "source": [
    "show_info('root_shell')"
   ]
  },
  {
   "cell_type": "markdown",
   "metadata": {},
   "source": [
    "**14) su_attempted:** <a id=\"f14\"></a>была ли попытка использовать \"su root\"?"
   ]
  },
  {
   "cell_type": "code",
   "execution_count": 23,
   "metadata": {},
   "outputs": [
    {
     "data": {
      "text/markdown": [
       "**Тип:** логическое значение (1 - Да, 0 - Нет)."
      ],
      "text/plain": [
       "<IPython.core.display.Markdown object>"
      ]
     },
     "metadata": {},
     "output_type": "display_data"
    },
    {
     "data": {
      "text/html": [
       "<div>\n",
       "<style scoped>\n",
       "    .dataframe tbody tr th:only-of-type {\n",
       "        vertical-align: middle;\n",
       "    }\n",
       "\n",
       "    .dataframe tbody tr th {\n",
       "        vertical-align: top;\n",
       "    }\n",
       "\n",
       "    .dataframe thead th {\n",
       "        text-align: right;\n",
       "    }\n",
       "</style>\n",
       "<table border=\"1\" class=\"dataframe\">\n",
       "  <thead>\n",
       "    <tr style=\"text-align: right;\">\n",
       "      <th>su_attempted</th>\n",
       "      <th>0</th>\n",
       "      <th>1</th>\n",
       "      <th>2</th>\n",
       "    </tr>\n",
       "  </thead>\n",
       "  <tbody>\n",
       "    <tr>\n",
       "      <th>data_10k</th>\n",
       "      <td>10000.0</td>\n",
       "      <td>NaN</td>\n",
       "      <td>NaN</td>\n",
       "    </tr>\n",
       "    <tr>\n",
       "      <th>[Y=1] data_10k</th>\n",
       "      <td>2213.0</td>\n",
       "      <td>NaN</td>\n",
       "      <td>NaN</td>\n",
       "    </tr>\n",
       "    <tr>\n",
       "      <th>[Y=0] data_10k</th>\n",
       "      <td>7787.0</td>\n",
       "      <td>NaN</td>\n",
       "      <td>NaN</td>\n",
       "    </tr>\n",
       "    <tr>\n",
       "      <th>data_50k</th>\n",
       "      <td>49998.0</td>\n",
       "      <td>1.0</td>\n",
       "      <td>1.0</td>\n",
       "    </tr>\n",
       "  </tbody>\n",
       "</table>\n",
       "</div>"
      ],
      "text/plain": [
       "su_attempted          0    1    2\n",
       "data_10k        10000.0  NaN  NaN\n",
       "[Y=1] data_10k   2213.0  NaN  NaN\n",
       "[Y=0] data_10k   7787.0  NaN  NaN\n",
       "data_50k        49998.0  1.0  1.0"
      ]
     },
     "metadata": {},
     "output_type": "display_data"
    },
    {
     "data": {
      "text/html": [
       "<b style=\"color:orangered\">\"data_10k\" имеет только значение равное 0!</b>"
      ],
      "text/plain": [
       "<IPython.core.display.HTML object>"
      ]
     },
     "metadata": {},
     "output_type": "display_data"
    },
    {
     "data": {
      "text/html": [
       "<b style=\"color:orangered\">\"data_50k\" имеет еще какие-то значения, кроме 0 и 1!</b>"
      ],
      "text/plain": [
       "<IPython.core.display.HTML object>"
      ]
     },
     "metadata": {},
     "output_type": "display_data"
    }
   ],
   "source": [
    "show_info('su_attempted')"
   ]
  },
  {
   "cell_type": "markdown",
   "metadata": {},
   "source": [
    "**15) num_root:** <a id=\"f15\"></a>количество обращений к \"root\" или количество операций, выполненных от имени \"root\" в соединении."
   ]
  },
  {
   "cell_type": "code",
   "execution_count": 24,
   "metadata": {},
   "outputs": [
    {
     "data": {
      "text/markdown": [
       "**Тип:** числовое значение (int64)."
      ],
      "text/plain": [
       "<IPython.core.display.Markdown object>"
      ]
     },
     "metadata": {},
     "output_type": "display_data"
    },
    {
     "data": {
      "text/html": [
       "<div>\n",
       "<style scoped>\n",
       "    .dataframe tbody tr th:only-of-type {\n",
       "        vertical-align: middle;\n",
       "    }\n",
       "\n",
       "    .dataframe tbody tr th {\n",
       "        vertical-align: top;\n",
       "    }\n",
       "\n",
       "    .dataframe thead th {\n",
       "        text-align: right;\n",
       "    }\n",
       "</style>\n",
       "<table border=\"1\" class=\"dataframe\">\n",
       "  <thead>\n",
       "    <tr style=\"text-align: right;\">\n",
       "      <th></th>\n",
       "      <th>count</th>\n",
       "      <th>mean</th>\n",
       "      <th>std</th>\n",
       "      <th>min</th>\n",
       "      <th>25%</th>\n",
       "      <th>50%</th>\n",
       "      <th>75%</th>\n",
       "      <th>max</th>\n",
       "    </tr>\n",
       "  </thead>\n",
       "  <tbody>\n",
       "    <tr>\n",
       "      <th>data_10k</th>\n",
       "      <td>10000.0</td>\n",
       "      <td>0.00</td>\n",
       "      <td>0.03</td>\n",
       "      <td>0.0</td>\n",
       "      <td>0.0</td>\n",
       "      <td>0.0</td>\n",
       "      <td>0.0</td>\n",
       "      <td>2.0</td>\n",
       "    </tr>\n",
       "    <tr>\n",
       "      <th>[Y=1] data_10k</th>\n",
       "      <td>2213.0</td>\n",
       "      <td>0.00</td>\n",
       "      <td>0.04</td>\n",
       "      <td>0.0</td>\n",
       "      <td>0.0</td>\n",
       "      <td>0.0</td>\n",
       "      <td>0.0</td>\n",
       "      <td>2.0</td>\n",
       "    </tr>\n",
       "    <tr>\n",
       "      <th>[Y=0] data_10k</th>\n",
       "      <td>7787.0</td>\n",
       "      <td>0.00</td>\n",
       "      <td>0.02</td>\n",
       "      <td>0.0</td>\n",
       "      <td>0.0</td>\n",
       "      <td>0.0</td>\n",
       "      <td>0.0</td>\n",
       "      <td>2.0</td>\n",
       "    </tr>\n",
       "    <tr>\n",
       "      <th>data_50k</th>\n",
       "      <td>50000.0</td>\n",
       "      <td>0.03</td>\n",
       "      <td>3.85</td>\n",
       "      <td>0.0</td>\n",
       "      <td>0.0</td>\n",
       "      <td>0.0</td>\n",
       "      <td>0.0</td>\n",
       "      <td>857.0</td>\n",
       "    </tr>\n",
       "  </tbody>\n",
       "</table>\n",
       "</div>"
      ],
      "text/plain": [
       "                  count  mean   std  min  25%  50%  75%    max\n",
       "data_10k        10000.0  0.00  0.03  0.0  0.0  0.0  0.0    2.0\n",
       "[Y=1] data_10k   2213.0  0.00  0.04  0.0  0.0  0.0  0.0    2.0\n",
       "[Y=0] data_10k   7787.0  0.00  0.02  0.0  0.0  0.0  0.0    2.0\n",
       "data_50k        50000.0  0.03  3.85  0.0  0.0  0.0  0.0  857.0"
      ]
     },
     "metadata": {},
     "output_type": "display_data"
    }
   ],
   "source": [
    "show_info('num_root')"
   ]
  },
  {
   "cell_type": "markdown",
   "metadata": {},
   "source": [
    "**16) num_file_creations:** <a id=\"f16\"></a>количество операций создания файлов в соединении."
   ]
  },
  {
   "cell_type": "code",
   "execution_count": 25,
   "metadata": {},
   "outputs": [
    {
     "data": {
      "text/markdown": [
       "**Тип:** числовое значение (int64)."
      ],
      "text/plain": [
       "<IPython.core.display.Markdown object>"
      ]
     },
     "metadata": {},
     "output_type": "display_data"
    },
    {
     "data": {
      "text/html": [
       "<div>\n",
       "<style scoped>\n",
       "    .dataframe tbody tr th:only-of-type {\n",
       "        vertical-align: middle;\n",
       "    }\n",
       "\n",
       "    .dataframe tbody tr th {\n",
       "        vertical-align: top;\n",
       "    }\n",
       "\n",
       "    .dataframe thead th {\n",
       "        text-align: right;\n",
       "    }\n",
       "</style>\n",
       "<table border=\"1\" class=\"dataframe\">\n",
       "  <thead>\n",
       "    <tr style=\"text-align: right;\">\n",
       "      <th></th>\n",
       "      <th>count</th>\n",
       "      <th>mean</th>\n",
       "      <th>std</th>\n",
       "      <th>min</th>\n",
       "      <th>25%</th>\n",
       "      <th>50%</th>\n",
       "      <th>75%</th>\n",
       "      <th>max</th>\n",
       "    </tr>\n",
       "  </thead>\n",
       "  <tbody>\n",
       "    <tr>\n",
       "      <th>data_10k</th>\n",
       "      <td>10000.0</td>\n",
       "      <td>0.0</td>\n",
       "      <td>0.06</td>\n",
       "      <td>0.0</td>\n",
       "      <td>0.0</td>\n",
       "      <td>0.0</td>\n",
       "      <td>0.0</td>\n",
       "      <td>4.0</td>\n",
       "    </tr>\n",
       "    <tr>\n",
       "      <th>[Y=1] data_10k</th>\n",
       "      <td>2213.0</td>\n",
       "      <td>0.0</td>\n",
       "      <td>0.10</td>\n",
       "      <td>0.0</td>\n",
       "      <td>0.0</td>\n",
       "      <td>0.0</td>\n",
       "      <td>0.0</td>\n",
       "      <td>4.0</td>\n",
       "    </tr>\n",
       "    <tr>\n",
       "      <th>[Y=0] data_10k</th>\n",
       "      <td>7787.0</td>\n",
       "      <td>0.0</td>\n",
       "      <td>0.04</td>\n",
       "      <td>0.0</td>\n",
       "      <td>0.0</td>\n",
       "      <td>0.0</td>\n",
       "      <td>0.0</td>\n",
       "      <td>2.0</td>\n",
       "    </tr>\n",
       "    <tr>\n",
       "      <th>data_50k</th>\n",
       "      <td>50000.0</td>\n",
       "      <td>0.0</td>\n",
       "      <td>0.17</td>\n",
       "      <td>0.0</td>\n",
       "      <td>0.0</td>\n",
       "      <td>0.0</td>\n",
       "      <td>0.0</td>\n",
       "      <td>28.0</td>\n",
       "    </tr>\n",
       "  </tbody>\n",
       "</table>\n",
       "</div>"
      ],
      "text/plain": [
       "                  count  mean   std  min  25%  50%  75%   max\n",
       "data_10k        10000.0   0.0  0.06  0.0  0.0  0.0  0.0   4.0\n",
       "[Y=1] data_10k   2213.0   0.0  0.10  0.0  0.0  0.0  0.0   4.0\n",
       "[Y=0] data_10k   7787.0   0.0  0.04  0.0  0.0  0.0  0.0   2.0\n",
       "data_50k        50000.0   0.0  0.17  0.0  0.0  0.0  0.0  28.0"
      ]
     },
     "metadata": {},
     "output_type": "display_data"
    }
   ],
   "source": [
    "show_info('num_file_creations')"
   ]
  },
  {
   "cell_type": "markdown",
   "metadata": {},
   "source": [
    "**17) num_shells:** <a id=\"f17\"></a>количество запросов оболочки."
   ]
  },
  {
   "cell_type": "code",
   "execution_count": 26,
   "metadata": {},
   "outputs": [
    {
     "data": {
      "text/markdown": [
       "**Тип:** числовое значение (int64)."
      ],
      "text/plain": [
       "<IPython.core.display.Markdown object>"
      ]
     },
     "metadata": {},
     "output_type": "display_data"
    },
    {
     "data": {
      "text/html": [
       "<div>\n",
       "<style scoped>\n",
       "    .dataframe tbody tr th:only-of-type {\n",
       "        vertical-align: middle;\n",
       "    }\n",
       "\n",
       "    .dataframe tbody tr th {\n",
       "        vertical-align: top;\n",
       "    }\n",
       "\n",
       "    .dataframe thead th {\n",
       "        text-align: right;\n",
       "    }\n",
       "</style>\n",
       "<table border=\"1\" class=\"dataframe\">\n",
       "  <thead>\n",
       "    <tr style=\"text-align: right;\">\n",
       "      <th></th>\n",
       "      <th>count</th>\n",
       "      <th>mean</th>\n",
       "      <th>std</th>\n",
       "      <th>min</th>\n",
       "      <th>25%</th>\n",
       "      <th>50%</th>\n",
       "      <th>75%</th>\n",
       "      <th>max</th>\n",
       "    </tr>\n",
       "  </thead>\n",
       "  <tbody>\n",
       "    <tr>\n",
       "      <th>data_10k</th>\n",
       "      <td>10000.0</td>\n",
       "      <td>0.0</td>\n",
       "      <td>0.02</td>\n",
       "      <td>0.0</td>\n",
       "      <td>0.0</td>\n",
       "      <td>0.0</td>\n",
       "      <td>0.0</td>\n",
       "      <td>2.0</td>\n",
       "    </tr>\n",
       "    <tr>\n",
       "      <th>[Y=1] data_10k</th>\n",
       "      <td>2213.0</td>\n",
       "      <td>0.0</td>\n",
       "      <td>0.05</td>\n",
       "      <td>0.0</td>\n",
       "      <td>0.0</td>\n",
       "      <td>0.0</td>\n",
       "      <td>0.0</td>\n",
       "      <td>2.0</td>\n",
       "    </tr>\n",
       "    <tr>\n",
       "      <th>[Y=0] data_10k</th>\n",
       "      <td>7787.0</td>\n",
       "      <td>0.0</td>\n",
       "      <td>0.00</td>\n",
       "      <td>0.0</td>\n",
       "      <td>0.0</td>\n",
       "      <td>0.0</td>\n",
       "      <td>0.0</td>\n",
       "      <td>0.0</td>\n",
       "    </tr>\n",
       "    <tr>\n",
       "      <th>data_50k</th>\n",
       "      <td>50000.0</td>\n",
       "      <td>0.0</td>\n",
       "      <td>0.01</td>\n",
       "      <td>0.0</td>\n",
       "      <td>0.0</td>\n",
       "      <td>0.0</td>\n",
       "      <td>0.0</td>\n",
       "      <td>1.0</td>\n",
       "    </tr>\n",
       "  </tbody>\n",
       "</table>\n",
       "</div>"
      ],
      "text/plain": [
       "                  count  mean   std  min  25%  50%  75%  max\n",
       "data_10k        10000.0   0.0  0.02  0.0  0.0  0.0  0.0  2.0\n",
       "[Y=1] data_10k   2213.0   0.0  0.05  0.0  0.0  0.0  0.0  2.0\n",
       "[Y=0] data_10k   7787.0   0.0  0.00  0.0  0.0  0.0  0.0  0.0\n",
       "data_50k        50000.0   0.0  0.01  0.0  0.0  0.0  0.0  1.0"
      ]
     },
     "metadata": {},
     "output_type": "display_data"
    },
    {
     "data": {
      "text/html": [
       "<b style=\"color:orangered\">\"[Y=0] data_10k\" не имеет уникальных значений!</b>"
      ],
      "text/plain": [
       "<IPython.core.display.HTML object>"
      ]
     },
     "metadata": {},
     "output_type": "display_data"
    }
   ],
   "source": [
    "show_info('num_shells')"
   ]
  },
  {
   "cell_type": "markdown",
   "metadata": {},
   "source": [
    "**18) num_access_files:** <a id=\"f18\"></a>количество операций над файлами контроля доступа."
   ]
  },
  {
   "cell_type": "code",
   "execution_count": 27,
   "metadata": {},
   "outputs": [
    {
     "data": {
      "text/markdown": [
       "**Тип:** числовое значение (int64)."
      ],
      "text/plain": [
       "<IPython.core.display.Markdown object>"
      ]
     },
     "metadata": {},
     "output_type": "display_data"
    },
    {
     "data": {
      "text/html": [
       "<div>\n",
       "<style scoped>\n",
       "    .dataframe tbody tr th:only-of-type {\n",
       "        vertical-align: middle;\n",
       "    }\n",
       "\n",
       "    .dataframe tbody tr th {\n",
       "        vertical-align: top;\n",
       "    }\n",
       "\n",
       "    .dataframe thead th {\n",
       "        text-align: right;\n",
       "    }\n",
       "</style>\n",
       "<table border=\"1\" class=\"dataframe\">\n",
       "  <thead>\n",
       "    <tr style=\"text-align: right;\">\n",
       "      <th></th>\n",
       "      <th>count</th>\n",
       "      <th>mean</th>\n",
       "      <th>std</th>\n",
       "      <th>min</th>\n",
       "      <th>25%</th>\n",
       "      <th>50%</th>\n",
       "      <th>75%</th>\n",
       "      <th>max</th>\n",
       "    </tr>\n",
       "  </thead>\n",
       "  <tbody>\n",
       "    <tr>\n",
       "      <th>data_10k</th>\n",
       "      <td>10000.0</td>\n",
       "      <td>0.0</td>\n",
       "      <td>0.04</td>\n",
       "      <td>0.0</td>\n",
       "      <td>0.0</td>\n",
       "      <td>0.0</td>\n",
       "      <td>0.0</td>\n",
       "      <td>2.0</td>\n",
       "    </tr>\n",
       "    <tr>\n",
       "      <th>[Y=1] data_10k</th>\n",
       "      <td>2213.0</td>\n",
       "      <td>0.0</td>\n",
       "      <td>0.00</td>\n",
       "      <td>0.0</td>\n",
       "      <td>0.0</td>\n",
       "      <td>0.0</td>\n",
       "      <td>0.0</td>\n",
       "      <td>0.0</td>\n",
       "    </tr>\n",
       "    <tr>\n",
       "      <th>[Y=0] data_10k</th>\n",
       "      <td>7787.0</td>\n",
       "      <td>0.0</td>\n",
       "      <td>0.05</td>\n",
       "      <td>0.0</td>\n",
       "      <td>0.0</td>\n",
       "      <td>0.0</td>\n",
       "      <td>0.0</td>\n",
       "      <td>2.0</td>\n",
       "    </tr>\n",
       "    <tr>\n",
       "      <th>data_50k</th>\n",
       "      <td>50000.0</td>\n",
       "      <td>0.0</td>\n",
       "      <td>0.07</td>\n",
       "      <td>0.0</td>\n",
       "      <td>0.0</td>\n",
       "      <td>0.0</td>\n",
       "      <td>0.0</td>\n",
       "      <td>6.0</td>\n",
       "    </tr>\n",
       "  </tbody>\n",
       "</table>\n",
       "</div>"
      ],
      "text/plain": [
       "                  count  mean   std  min  25%  50%  75%  max\n",
       "data_10k        10000.0   0.0  0.04  0.0  0.0  0.0  0.0  2.0\n",
       "[Y=1] data_10k   2213.0   0.0  0.00  0.0  0.0  0.0  0.0  0.0\n",
       "[Y=0] data_10k   7787.0   0.0  0.05  0.0  0.0  0.0  0.0  2.0\n",
       "data_50k        50000.0   0.0  0.07  0.0  0.0  0.0  0.0  6.0"
      ]
     },
     "metadata": {},
     "output_type": "display_data"
    },
    {
     "data": {
      "text/html": [
       "<b style=\"color:orangered\">\"[Y=1] data_10k\" не имеет уникальных значений!</b>"
      ],
      "text/plain": [
       "<IPython.core.display.HTML object>"
      ]
     },
     "metadata": {},
     "output_type": "display_data"
    }
   ],
   "source": [
    "show_info('num_access_files')"
   ]
  },
  {
   "cell_type": "markdown",
   "metadata": {},
   "source": [
    "**19) num_outbound_cmds:** <a id=\"f19\"></a>количество исходящих команд в FTP-сессии."
   ]
  },
  {
   "cell_type": "code",
   "execution_count": 28,
   "metadata": {},
   "outputs": [
    {
     "data": {
      "text/markdown": [
       "**Тип:** числовое значение (int64)."
      ],
      "text/plain": [
       "<IPython.core.display.Markdown object>"
      ]
     },
     "metadata": {},
     "output_type": "display_data"
    },
    {
     "data": {
      "text/html": [
       "<div>\n",
       "<style scoped>\n",
       "    .dataframe tbody tr th:only-of-type {\n",
       "        vertical-align: middle;\n",
       "    }\n",
       "\n",
       "    .dataframe tbody tr th {\n",
       "        vertical-align: top;\n",
       "    }\n",
       "\n",
       "    .dataframe thead th {\n",
       "        text-align: right;\n",
       "    }\n",
       "</style>\n",
       "<table border=\"1\" class=\"dataframe\">\n",
       "  <thead>\n",
       "    <tr style=\"text-align: right;\">\n",
       "      <th></th>\n",
       "      <th>count</th>\n",
       "      <th>mean</th>\n",
       "      <th>std</th>\n",
       "      <th>min</th>\n",
       "      <th>25%</th>\n",
       "      <th>50%</th>\n",
       "      <th>75%</th>\n",
       "      <th>max</th>\n",
       "    </tr>\n",
       "  </thead>\n",
       "  <tbody>\n",
       "    <tr>\n",
       "      <th>data_10k</th>\n",
       "      <td>10000.0</td>\n",
       "      <td>0.0</td>\n",
       "      <td>0.0</td>\n",
       "      <td>0.0</td>\n",
       "      <td>0.0</td>\n",
       "      <td>0.0</td>\n",
       "      <td>0.0</td>\n",
       "      <td>0.0</td>\n",
       "    </tr>\n",
       "    <tr>\n",
       "      <th>[Y=1] data_10k</th>\n",
       "      <td>2213.0</td>\n",
       "      <td>0.0</td>\n",
       "      <td>0.0</td>\n",
       "      <td>0.0</td>\n",
       "      <td>0.0</td>\n",
       "      <td>0.0</td>\n",
       "      <td>0.0</td>\n",
       "      <td>0.0</td>\n",
       "    </tr>\n",
       "    <tr>\n",
       "      <th>[Y=0] data_10k</th>\n",
       "      <td>7787.0</td>\n",
       "      <td>0.0</td>\n",
       "      <td>0.0</td>\n",
       "      <td>0.0</td>\n",
       "      <td>0.0</td>\n",
       "      <td>0.0</td>\n",
       "      <td>0.0</td>\n",
       "      <td>0.0</td>\n",
       "    </tr>\n",
       "    <tr>\n",
       "      <th>data_50k</th>\n",
       "      <td>50000.0</td>\n",
       "      <td>0.0</td>\n",
       "      <td>0.0</td>\n",
       "      <td>0.0</td>\n",
       "      <td>0.0</td>\n",
       "      <td>0.0</td>\n",
       "      <td>0.0</td>\n",
       "      <td>0.0</td>\n",
       "    </tr>\n",
       "  </tbody>\n",
       "</table>\n",
       "</div>"
      ],
      "text/plain": [
       "                  count  mean  std  min  25%  50%  75%  max\n",
       "data_10k        10000.0   0.0  0.0  0.0  0.0  0.0  0.0  0.0\n",
       "[Y=1] data_10k   2213.0   0.0  0.0  0.0  0.0  0.0  0.0  0.0\n",
       "[Y=0] data_10k   7787.0   0.0  0.0  0.0  0.0  0.0  0.0  0.0\n",
       "data_50k        50000.0   0.0  0.0  0.0  0.0  0.0  0.0  0.0"
      ]
     },
     "metadata": {},
     "output_type": "display_data"
    },
    {
     "data": {
      "text/html": [
       "<b style=\"color:orangered\">\"data_10k\" не имеет уникальных значений!</b>"
      ],
      "text/plain": [
       "<IPython.core.display.HTML object>"
      ]
     },
     "metadata": {},
     "output_type": "display_data"
    },
    {
     "data": {
      "text/html": [
       "<b style=\"color:orangered\">\"data_50k\" не имеет уникальных значений!</b>"
      ],
      "text/plain": [
       "<IPython.core.display.HTML object>"
      ]
     },
     "metadata": {},
     "output_type": "display_data"
    }
   ],
   "source": [
    "show_info('num_outbound_cmds')"
   ]
  },
  {
   "cell_type": "markdown",
   "metadata": {},
   "source": [
    "**20) is_host_login:** <a id=\"f20\"></a>принадлежит ли логин к списку \"особых\": root, admin и т. д.?"
   ]
  },
  {
   "cell_type": "code",
   "execution_count": 29,
   "metadata": {},
   "outputs": [
    {
     "data": {
      "text/markdown": [
       "**Тип:** логическое значение (1 - Да, 0 - Нет)."
      ],
      "text/plain": [
       "<IPython.core.display.Markdown object>"
      ]
     },
     "metadata": {},
     "output_type": "display_data"
    },
    {
     "data": {
      "text/html": [
       "<div>\n",
       "<style scoped>\n",
       "    .dataframe tbody tr th:only-of-type {\n",
       "        vertical-align: middle;\n",
       "    }\n",
       "\n",
       "    .dataframe tbody tr th {\n",
       "        vertical-align: top;\n",
       "    }\n",
       "\n",
       "    .dataframe thead th {\n",
       "        text-align: right;\n",
       "    }\n",
       "</style>\n",
       "<table border=\"1\" class=\"dataframe\">\n",
       "  <thead>\n",
       "    <tr style=\"text-align: right;\">\n",
       "      <th>is_host_login</th>\n",
       "      <th>0</th>\n",
       "    </tr>\n",
       "  </thead>\n",
       "  <tbody>\n",
       "    <tr>\n",
       "      <th>data_10k</th>\n",
       "      <td>10000</td>\n",
       "    </tr>\n",
       "    <tr>\n",
       "      <th>[Y=1] data_10k</th>\n",
       "      <td>2213</td>\n",
       "    </tr>\n",
       "    <tr>\n",
       "      <th>[Y=0] data_10k</th>\n",
       "      <td>7787</td>\n",
       "    </tr>\n",
       "    <tr>\n",
       "      <th>data_50k</th>\n",
       "      <td>50000</td>\n",
       "    </tr>\n",
       "  </tbody>\n",
       "</table>\n",
       "</div>"
      ],
      "text/plain": [
       "is_host_login       0\n",
       "data_10k        10000\n",
       "[Y=1] data_10k   2213\n",
       "[Y=0] data_10k   7787\n",
       "data_50k        50000"
      ]
     },
     "metadata": {},
     "output_type": "display_data"
    },
    {
     "data": {
      "text/html": [
       "<b style=\"color:orangered\">\"data_10k\" имеет только значение равное 0!</b>"
      ],
      "text/plain": [
       "<IPython.core.display.HTML object>"
      ]
     },
     "metadata": {},
     "output_type": "display_data"
    },
    {
     "data": {
      "text/html": [
       "<b style=\"color:orangered\">\"data_50k\" имеет только значение равное 0!</b>"
      ],
      "text/plain": [
       "<IPython.core.display.HTML object>"
      ]
     },
     "metadata": {},
     "output_type": "display_data"
    }
   ],
   "source": [
    "show_info('is_host_login')"
   ]
  },
  {
   "cell_type": "markdown",
   "metadata": {},
   "source": [
    "**21) is_guest_login:** <a id=\"f21\"></a>используется «гостевой» логин?"
   ]
  },
  {
   "cell_type": "code",
   "execution_count": 30,
   "metadata": {},
   "outputs": [
    {
     "data": {
      "text/markdown": [
       "**Тип:** логическое значение (1 - Да, 0 - Нет)."
      ],
      "text/plain": [
       "<IPython.core.display.Markdown object>"
      ]
     },
     "metadata": {},
     "output_type": "display_data"
    },
    {
     "data": {
      "text/html": [
       "<div>\n",
       "<style scoped>\n",
       "    .dataframe tbody tr th:only-of-type {\n",
       "        vertical-align: middle;\n",
       "    }\n",
       "\n",
       "    .dataframe tbody tr th {\n",
       "        vertical-align: top;\n",
       "    }\n",
       "\n",
       "    .dataframe thead th {\n",
       "        text-align: right;\n",
       "    }\n",
       "</style>\n",
       "<table border=\"1\" class=\"dataframe\">\n",
       "  <thead>\n",
       "    <tr style=\"text-align: right;\">\n",
       "      <th>is_guest_login</th>\n",
       "      <th>0</th>\n",
       "      <th>1</th>\n",
       "    </tr>\n",
       "  </thead>\n",
       "  <tbody>\n",
       "    <tr>\n",
       "      <th>data_10k</th>\n",
       "      <td>9972.0</td>\n",
       "      <td>28.0</td>\n",
       "    </tr>\n",
       "    <tr>\n",
       "      <th>[Y=1] data_10k</th>\n",
       "      <td>2213.0</td>\n",
       "      <td>NaN</td>\n",
       "    </tr>\n",
       "    <tr>\n",
       "      <th>[Y=0] data_10k</th>\n",
       "      <td>7759.0</td>\n",
       "      <td>28.0</td>\n",
       "    </tr>\n",
       "    <tr>\n",
       "      <th>data_50k</th>\n",
       "      <td>49865.0</td>\n",
       "      <td>135.0</td>\n",
       "    </tr>\n",
       "  </tbody>\n",
       "</table>\n",
       "</div>"
      ],
      "text/plain": [
       "is_guest_login        0      1\n",
       "data_10k         9972.0   28.0\n",
       "[Y=1] data_10k   2213.0    NaN\n",
       "[Y=0] data_10k   7759.0   28.0\n",
       "data_50k        49865.0  135.0"
      ]
     },
     "metadata": {},
     "output_type": "display_data"
    }
   ],
   "source": [
    "show_info('is_guest_login')"
   ]
  },
  {
   "cell_type": "markdown",
   "metadata": {},
   "source": [
    "#### 2.2.4. Временные характеристики трафика каждого вектора сетевого соединения <a id=\"fg4\"></a>"
   ]
  },
  {
   "cell_type": "markdown",
   "metadata": {},
   "source": [
    "**22) count:** <a id=\"f22\"></a>количество соединений с тем же хостом назначения, что и текущее соединение, за последние две секунды."
   ]
  },
  {
   "cell_type": "code",
   "execution_count": 31,
   "metadata": {},
   "outputs": [
    {
     "data": {
      "text/markdown": [
       "**Тип:** числовое значение (int64)."
      ],
      "text/plain": [
       "<IPython.core.display.Markdown object>"
      ]
     },
     "metadata": {},
     "output_type": "display_data"
    },
    {
     "data": {
      "text/html": [
       "<div>\n",
       "<style scoped>\n",
       "    .dataframe tbody tr th:only-of-type {\n",
       "        vertical-align: middle;\n",
       "    }\n",
       "\n",
       "    .dataframe tbody tr th {\n",
       "        vertical-align: top;\n",
       "    }\n",
       "\n",
       "    .dataframe thead th {\n",
       "        text-align: right;\n",
       "    }\n",
       "</style>\n",
       "<table border=\"1\" class=\"dataframe\">\n",
       "  <thead>\n",
       "    <tr style=\"text-align: right;\">\n",
       "      <th></th>\n",
       "      <th>count</th>\n",
       "      <th>mean</th>\n",
       "      <th>std</th>\n",
       "      <th>min</th>\n",
       "      <th>25%</th>\n",
       "      <th>50%</th>\n",
       "      <th>75%</th>\n",
       "      <th>max</th>\n",
       "    </tr>\n",
       "  </thead>\n",
       "  <tbody>\n",
       "    <tr>\n",
       "      <th>data_10k</th>\n",
       "      <td>10000.0</td>\n",
       "      <td>118.69</td>\n",
       "      <td>207.37</td>\n",
       "      <td>1.0</td>\n",
       "      <td>3.0</td>\n",
       "      <td>9.0</td>\n",
       "      <td>29.0</td>\n",
       "      <td>511.0</td>\n",
       "    </tr>\n",
       "    <tr>\n",
       "      <th>[Y=1] data_10k</th>\n",
       "      <td>2213.0</td>\n",
       "      <td>505.24</td>\n",
       "      <td>45.99</td>\n",
       "      <td>1.0</td>\n",
       "      <td>511.0</td>\n",
       "      <td>511.0</td>\n",
       "      <td>511.0</td>\n",
       "      <td>511.0</td>\n",
       "    </tr>\n",
       "    <tr>\n",
       "      <th>[Y=0] data_10k</th>\n",
       "      <td>7787.0</td>\n",
       "      <td>8.83</td>\n",
       "      <td>9.02</td>\n",
       "      <td>1.0</td>\n",
       "      <td>2.0</td>\n",
       "      <td>6.0</td>\n",
       "      <td>13.0</td>\n",
       "      <td>80.0</td>\n",
       "    </tr>\n",
       "    <tr>\n",
       "      <th>data_50k</th>\n",
       "      <td>50000.0</td>\n",
       "      <td>123.10</td>\n",
       "      <td>193.31</td>\n",
       "      <td>1.0</td>\n",
       "      <td>2.0</td>\n",
       "      <td>11.0</td>\n",
       "      <td>198.0</td>\n",
       "      <td>511.0</td>\n",
       "    </tr>\n",
       "  </tbody>\n",
       "</table>\n",
       "</div>"
      ],
      "text/plain": [
       "                  count    mean     std  min    25%    50%    75%    max\n",
       "data_10k        10000.0  118.69  207.37  1.0    3.0    9.0   29.0  511.0\n",
       "[Y=1] data_10k   2213.0  505.24   45.99  1.0  511.0  511.0  511.0  511.0\n",
       "[Y=0] data_10k   7787.0    8.83    9.02  1.0    2.0    6.0   13.0   80.0\n",
       "data_50k        50000.0  123.10  193.31  1.0    2.0   11.0  198.0  511.0"
      ]
     },
     "metadata": {},
     "output_type": "display_data"
    }
   ],
   "source": [
    "show_info('count')"
   ]
  },
  {
   "cell_type": "markdown",
   "metadata": {},
   "source": [
    "**23) srv_count:** <a id=\"f23\"></a>количество соединений с тем же сервисом (номер порта) , что и текущее соединение, за последние две секунды."
   ]
  },
  {
   "cell_type": "code",
   "execution_count": 32,
   "metadata": {},
   "outputs": [
    {
     "data": {
      "text/markdown": [
       "**Тип:** числовое значение (int64)."
      ],
      "text/plain": [
       "<IPython.core.display.Markdown object>"
      ]
     },
     "metadata": {},
     "output_type": "display_data"
    },
    {
     "data": {
      "text/html": [
       "<div>\n",
       "<style scoped>\n",
       "    .dataframe tbody tr th:only-of-type {\n",
       "        vertical-align: middle;\n",
       "    }\n",
       "\n",
       "    .dataframe tbody tr th {\n",
       "        vertical-align: top;\n",
       "    }\n",
       "\n",
       "    .dataframe thead th {\n",
       "        text-align: right;\n",
       "    }\n",
       "</style>\n",
       "<table border=\"1\" class=\"dataframe\">\n",
       "  <thead>\n",
       "    <tr style=\"text-align: right;\">\n",
       "      <th></th>\n",
       "      <th>count</th>\n",
       "      <th>mean</th>\n",
       "      <th>std</th>\n",
       "      <th>min</th>\n",
       "      <th>25%</th>\n",
       "      <th>50%</th>\n",
       "      <th>75%</th>\n",
       "      <th>max</th>\n",
       "    </tr>\n",
       "  </thead>\n",
       "  <tbody>\n",
       "    <tr>\n",
       "      <th>data_10k</th>\n",
       "      <td>10000.0</td>\n",
       "      <td>120.52</td>\n",
       "      <td>206.46</td>\n",
       "      <td>1.0</td>\n",
       "      <td>4.0</td>\n",
       "      <td>12.0</td>\n",
       "      <td>35.0</td>\n",
       "      <td>511.0</td>\n",
       "    </tr>\n",
       "    <tr>\n",
       "      <th>[Y=1] data_10k</th>\n",
       "      <td>2213.0</td>\n",
       "      <td>505.24</td>\n",
       "      <td>46.00</td>\n",
       "      <td>1.0</td>\n",
       "      <td>511.0</td>\n",
       "      <td>511.0</td>\n",
       "      <td>511.0</td>\n",
       "      <td>511.0</td>\n",
       "    </tr>\n",
       "    <tr>\n",
       "      <th>[Y=0] data_10k</th>\n",
       "      <td>7787.0</td>\n",
       "      <td>11.18</td>\n",
       "      <td>10.79</td>\n",
       "      <td>1.0</td>\n",
       "      <td>3.0</td>\n",
       "      <td>8.0</td>\n",
       "      <td>16.0</td>\n",
       "      <td>80.0</td>\n",
       "    </tr>\n",
       "    <tr>\n",
       "      <th>data_50k</th>\n",
       "      <td>50000.0</td>\n",
       "      <td>102.37</td>\n",
       "      <td>192.56</td>\n",
       "      <td>1.0</td>\n",
       "      <td>3.0</td>\n",
       "      <td>10.0</td>\n",
       "      <td>29.0</td>\n",
       "      <td>511.0</td>\n",
       "    </tr>\n",
       "  </tbody>\n",
       "</table>\n",
       "</div>"
      ],
      "text/plain": [
       "                  count    mean     std  min    25%    50%    75%    max\n",
       "data_10k        10000.0  120.52  206.46  1.0    4.0   12.0   35.0  511.0\n",
       "[Y=1] data_10k   2213.0  505.24   46.00  1.0  511.0  511.0  511.0  511.0\n",
       "[Y=0] data_10k   7787.0   11.18   10.79  1.0    3.0    8.0   16.0   80.0\n",
       "data_50k        50000.0  102.37  192.56  1.0    3.0   10.0   29.0  511.0"
      ]
     },
     "metadata": {},
     "output_type": "display_data"
    }
   ],
   "source": [
    "show_info('srv_count')"
   ]
  },
  {
   "cell_type": "markdown",
   "metadata": {},
   "source": [
    "**24) serror_rate:** <a id=\"f24\"></a>процент соединений, активировавших [flag (3)](#f3) s0, s1, s2 или s3, среди соединений, объединенных в [count (22)](#f22)."
   ]
  },
  {
   "cell_type": "code",
   "execution_count": 33,
   "metadata": {},
   "outputs": [
    {
     "data": {
      "text/markdown": [
       "**Тип:** числовое значение (float64)."
      ],
      "text/plain": [
       "<IPython.core.display.Markdown object>"
      ]
     },
     "metadata": {},
     "output_type": "display_data"
    },
    {
     "data": {
      "text/html": [
       "<div>\n",
       "<style scoped>\n",
       "    .dataframe tbody tr th:only-of-type {\n",
       "        vertical-align: middle;\n",
       "    }\n",
       "\n",
       "    .dataframe tbody tr th {\n",
       "        vertical-align: top;\n",
       "    }\n",
       "\n",
       "    .dataframe thead th {\n",
       "        text-align: right;\n",
       "    }\n",
       "</style>\n",
       "<table border=\"1\" class=\"dataframe\">\n",
       "  <thead>\n",
       "    <tr style=\"text-align: right;\">\n",
       "      <th></th>\n",
       "      <th>count</th>\n",
       "      <th>mean</th>\n",
       "      <th>std</th>\n",
       "      <th>min</th>\n",
       "      <th>25%</th>\n",
       "      <th>50%</th>\n",
       "      <th>75%</th>\n",
       "      <th>max</th>\n",
       "    </tr>\n",
       "  </thead>\n",
       "  <tbody>\n",
       "    <tr>\n",
       "      <th>data_10k</th>\n",
       "      <td>10000.0</td>\n",
       "      <td>0.00</td>\n",
       "      <td>0.02</td>\n",
       "      <td>0.0</td>\n",
       "      <td>0.0</td>\n",
       "      <td>0.0</td>\n",
       "      <td>0.0</td>\n",
       "      <td>1.00</td>\n",
       "    </tr>\n",
       "    <tr>\n",
       "      <th>[Y=1] data_10k</th>\n",
       "      <td>2213.0</td>\n",
       "      <td>0.00</td>\n",
       "      <td>0.03</td>\n",
       "      <td>0.0</td>\n",
       "      <td>0.0</td>\n",
       "      <td>0.0</td>\n",
       "      <td>0.0</td>\n",
       "      <td>0.94</td>\n",
       "    </tr>\n",
       "    <tr>\n",
       "      <th>[Y=0] data_10k</th>\n",
       "      <td>7787.0</td>\n",
       "      <td>0.00</td>\n",
       "      <td>0.02</td>\n",
       "      <td>0.0</td>\n",
       "      <td>0.0</td>\n",
       "      <td>0.0</td>\n",
       "      <td>0.0</td>\n",
       "      <td>1.00</td>\n",
       "    </tr>\n",
       "    <tr>\n",
       "      <th>data_50k</th>\n",
       "      <td>50000.0</td>\n",
       "      <td>0.13</td>\n",
       "      <td>0.34</td>\n",
       "      <td>0.0</td>\n",
       "      <td>0.0</td>\n",
       "      <td>0.0</td>\n",
       "      <td>0.0</td>\n",
       "      <td>1.00</td>\n",
       "    </tr>\n",
       "  </tbody>\n",
       "</table>\n",
       "</div>"
      ],
      "text/plain": [
       "                  count  mean   std  min  25%  50%  75%   max\n",
       "data_10k        10000.0  0.00  0.02  0.0  0.0  0.0  0.0  1.00\n",
       "[Y=1] data_10k   2213.0  0.00  0.03  0.0  0.0  0.0  0.0  0.94\n",
       "[Y=0] data_10k   7787.0  0.00  0.02  0.0  0.0  0.0  0.0  1.00\n",
       "data_50k        50000.0  0.13  0.34  0.0  0.0  0.0  0.0  1.00"
      ]
     },
     "metadata": {},
     "output_type": "display_data"
    }
   ],
   "source": [
    "show_info('serror_rate')"
   ]
  },
  {
   "cell_type": "markdown",
   "metadata": {},
   "source": [
    "**25) srv_serror_rate:** <a id=\"f25\"></a>процент соединений, активировавших [flag (3)](#f3) s0, s1, s2 или s3, среди соединений, объединенных в [srv_count (23)](#f23)"
   ]
  },
  {
   "cell_type": "code",
   "execution_count": 34,
   "metadata": {},
   "outputs": [
    {
     "data": {
      "text/markdown": [
       "**Тип:** числовое значение (float64)."
      ],
      "text/plain": [
       "<IPython.core.display.Markdown object>"
      ]
     },
     "metadata": {},
     "output_type": "display_data"
    },
    {
     "data": {
      "text/html": [
       "<div>\n",
       "<style scoped>\n",
       "    .dataframe tbody tr th:only-of-type {\n",
       "        vertical-align: middle;\n",
       "    }\n",
       "\n",
       "    .dataframe tbody tr th {\n",
       "        vertical-align: top;\n",
       "    }\n",
       "\n",
       "    .dataframe thead th {\n",
       "        text-align: right;\n",
       "    }\n",
       "</style>\n",
       "<table border=\"1\" class=\"dataframe\">\n",
       "  <thead>\n",
       "    <tr style=\"text-align: right;\">\n",
       "      <th></th>\n",
       "      <th>count</th>\n",
       "      <th>mean</th>\n",
       "      <th>std</th>\n",
       "      <th>min</th>\n",
       "      <th>25%</th>\n",
       "      <th>50%</th>\n",
       "      <th>75%</th>\n",
       "      <th>max</th>\n",
       "    </tr>\n",
       "  </thead>\n",
       "  <tbody>\n",
       "    <tr>\n",
       "      <th>data_10k</th>\n",
       "      <td>10000.0</td>\n",
       "      <td>0.00</td>\n",
       "      <td>0.02</td>\n",
       "      <td>0.0</td>\n",
       "      <td>0.0</td>\n",
       "      <td>0.0</td>\n",
       "      <td>0.0</td>\n",
       "      <td>1.0</td>\n",
       "    </tr>\n",
       "    <tr>\n",
       "      <th>[Y=1] data_10k</th>\n",
       "      <td>2213.0</td>\n",
       "      <td>0.00</td>\n",
       "      <td>0.03</td>\n",
       "      <td>0.0</td>\n",
       "      <td>0.0</td>\n",
       "      <td>0.0</td>\n",
       "      <td>0.0</td>\n",
       "      <td>1.0</td>\n",
       "    </tr>\n",
       "    <tr>\n",
       "      <th>[Y=0] data_10k</th>\n",
       "      <td>7787.0</td>\n",
       "      <td>0.00</td>\n",
       "      <td>0.02</td>\n",
       "      <td>0.0</td>\n",
       "      <td>0.0</td>\n",
       "      <td>0.0</td>\n",
       "      <td>0.0</td>\n",
       "      <td>1.0</td>\n",
       "    </tr>\n",
       "    <tr>\n",
       "      <th>data_50k</th>\n",
       "      <td>50000.0</td>\n",
       "      <td>0.13</td>\n",
       "      <td>0.34</td>\n",
       "      <td>0.0</td>\n",
       "      <td>0.0</td>\n",
       "      <td>0.0</td>\n",
       "      <td>0.0</td>\n",
       "      <td>1.0</td>\n",
       "    </tr>\n",
       "  </tbody>\n",
       "</table>\n",
       "</div>"
      ],
      "text/plain": [
       "                  count  mean   std  min  25%  50%  75%  max\n",
       "data_10k        10000.0  0.00  0.02  0.0  0.0  0.0  0.0  1.0\n",
       "[Y=1] data_10k   2213.0  0.00  0.03  0.0  0.0  0.0  0.0  1.0\n",
       "[Y=0] data_10k   7787.0  0.00  0.02  0.0  0.0  0.0  0.0  1.0\n",
       "data_50k        50000.0  0.13  0.34  0.0  0.0  0.0  0.0  1.0"
      ]
     },
     "metadata": {},
     "output_type": "display_data"
    }
   ],
   "source": [
    "show_info('srv_serror_rate')"
   ]
  },
  {
   "cell_type": "markdown",
   "metadata": {},
   "source": [
    "**26) rerror_rate:** <a id=\"f26\"></a>процент соединений, активировавших [flag (3)](#f3) REJ, среди соединений, объединенных в [count (22)](#f22)."
   ]
  },
  {
   "cell_type": "code",
   "execution_count": 35,
   "metadata": {},
   "outputs": [
    {
     "data": {
      "text/markdown": [
       "**Тип:** числовое значение (float64)."
      ],
      "text/plain": [
       "<IPython.core.display.Markdown object>"
      ]
     },
     "metadata": {},
     "output_type": "display_data"
    },
    {
     "data": {
      "text/html": [
       "<div>\n",
       "<style scoped>\n",
       "    .dataframe tbody tr th:only-of-type {\n",
       "        vertical-align: middle;\n",
       "    }\n",
       "\n",
       "    .dataframe tbody tr th {\n",
       "        vertical-align: top;\n",
       "    }\n",
       "\n",
       "    .dataframe thead th {\n",
       "        text-align: right;\n",
       "    }\n",
       "</style>\n",
       "<table border=\"1\" class=\"dataframe\">\n",
       "  <thead>\n",
       "    <tr style=\"text-align: right;\">\n",
       "      <th></th>\n",
       "      <th>count</th>\n",
       "      <th>mean</th>\n",
       "      <th>std</th>\n",
       "      <th>min</th>\n",
       "      <th>25%</th>\n",
       "      <th>50%</th>\n",
       "      <th>75%</th>\n",
       "      <th>max</th>\n",
       "    </tr>\n",
       "  </thead>\n",
       "  <tbody>\n",
       "    <tr>\n",
       "      <th>data_10k</th>\n",
       "      <td>10000.0</td>\n",
       "      <td>0.00</td>\n",
       "      <td>0.03</td>\n",
       "      <td>0.0</td>\n",
       "      <td>0.0</td>\n",
       "      <td>0.0</td>\n",
       "      <td>0.0</td>\n",
       "      <td>1.0</td>\n",
       "    </tr>\n",
       "    <tr>\n",
       "      <th>[Y=1] data_10k</th>\n",
       "      <td>2213.0</td>\n",
       "      <td>0.00</td>\n",
       "      <td>0.00</td>\n",
       "      <td>0.0</td>\n",
       "      <td>0.0</td>\n",
       "      <td>0.0</td>\n",
       "      <td>0.0</td>\n",
       "      <td>0.0</td>\n",
       "    </tr>\n",
       "    <tr>\n",
       "      <th>[Y=0] data_10k</th>\n",
       "      <td>7787.0</td>\n",
       "      <td>0.00</td>\n",
       "      <td>0.03</td>\n",
       "      <td>0.0</td>\n",
       "      <td>0.0</td>\n",
       "      <td>0.0</td>\n",
       "      <td>0.0</td>\n",
       "      <td>1.0</td>\n",
       "    </tr>\n",
       "    <tr>\n",
       "      <th>data_50k</th>\n",
       "      <td>50000.0</td>\n",
       "      <td>0.03</td>\n",
       "      <td>0.16</td>\n",
       "      <td>0.0</td>\n",
       "      <td>0.0</td>\n",
       "      <td>0.0</td>\n",
       "      <td>0.0</td>\n",
       "      <td>1.0</td>\n",
       "    </tr>\n",
       "  </tbody>\n",
       "</table>\n",
       "</div>"
      ],
      "text/plain": [
       "                  count  mean   std  min  25%  50%  75%  max\n",
       "data_10k        10000.0  0.00  0.03  0.0  0.0  0.0  0.0  1.0\n",
       "[Y=1] data_10k   2213.0  0.00  0.00  0.0  0.0  0.0  0.0  0.0\n",
       "[Y=0] data_10k   7787.0  0.00  0.03  0.0  0.0  0.0  0.0  1.0\n",
       "data_50k        50000.0  0.03  0.16  0.0  0.0  0.0  0.0  1.0"
      ]
     },
     "metadata": {},
     "output_type": "display_data"
    },
    {
     "data": {
      "text/html": [
       "<b style=\"color:orangered\">\"[Y=1] data_10k\" не имеет уникальных значений!</b>"
      ],
      "text/plain": [
       "<IPython.core.display.HTML object>"
      ]
     },
     "metadata": {},
     "output_type": "display_data"
    }
   ],
   "source": [
    "show_info('rerror_rate')"
   ]
  },
  {
   "cell_type": "markdown",
   "metadata": {},
   "source": [
    "**27) srv_rerror_rate:** <a id=\"f27\"></a>процент соединений, активировавших [flag (3)](#f3) REJ, среди соединений, объединенных в [srv_count (23)](#f23)."
   ]
  },
  {
   "cell_type": "code",
   "execution_count": 36,
   "metadata": {},
   "outputs": [
    {
     "data": {
      "text/markdown": [
       "**Тип:** числовое значение (float64)."
      ],
      "text/plain": [
       "<IPython.core.display.Markdown object>"
      ]
     },
     "metadata": {},
     "output_type": "display_data"
    },
    {
     "data": {
      "text/html": [
       "<div>\n",
       "<style scoped>\n",
       "    .dataframe tbody tr th:only-of-type {\n",
       "        vertical-align: middle;\n",
       "    }\n",
       "\n",
       "    .dataframe tbody tr th {\n",
       "        vertical-align: top;\n",
       "    }\n",
       "\n",
       "    .dataframe thead th {\n",
       "        text-align: right;\n",
       "    }\n",
       "</style>\n",
       "<table border=\"1\" class=\"dataframe\">\n",
       "  <thead>\n",
       "    <tr style=\"text-align: right;\">\n",
       "      <th></th>\n",
       "      <th>count</th>\n",
       "      <th>mean</th>\n",
       "      <th>std</th>\n",
       "      <th>min</th>\n",
       "      <th>25%</th>\n",
       "      <th>50%</th>\n",
       "      <th>75%</th>\n",
       "      <th>max</th>\n",
       "    </tr>\n",
       "  </thead>\n",
       "  <tbody>\n",
       "    <tr>\n",
       "      <th>data_10k</th>\n",
       "      <td>10000.0</td>\n",
       "      <td>0.00</td>\n",
       "      <td>0.03</td>\n",
       "      <td>0.0</td>\n",
       "      <td>0.0</td>\n",
       "      <td>0.0</td>\n",
       "      <td>0.0</td>\n",
       "      <td>1.0</td>\n",
       "    </tr>\n",
       "    <tr>\n",
       "      <th>[Y=1] data_10k</th>\n",
       "      <td>2213.0</td>\n",
       "      <td>0.00</td>\n",
       "      <td>0.00</td>\n",
       "      <td>0.0</td>\n",
       "      <td>0.0</td>\n",
       "      <td>0.0</td>\n",
       "      <td>0.0</td>\n",
       "      <td>0.0</td>\n",
       "    </tr>\n",
       "    <tr>\n",
       "      <th>[Y=0] data_10k</th>\n",
       "      <td>7787.0</td>\n",
       "      <td>0.00</td>\n",
       "      <td>0.03</td>\n",
       "      <td>0.0</td>\n",
       "      <td>0.0</td>\n",
       "      <td>0.0</td>\n",
       "      <td>0.0</td>\n",
       "      <td>1.0</td>\n",
       "    </tr>\n",
       "    <tr>\n",
       "      <th>data_50k</th>\n",
       "      <td>50000.0</td>\n",
       "      <td>0.03</td>\n",
       "      <td>0.16</td>\n",
       "      <td>0.0</td>\n",
       "      <td>0.0</td>\n",
       "      <td>0.0</td>\n",
       "      <td>0.0</td>\n",
       "      <td>1.0</td>\n",
       "    </tr>\n",
       "  </tbody>\n",
       "</table>\n",
       "</div>"
      ],
      "text/plain": [
       "                  count  mean   std  min  25%  50%  75%  max\n",
       "data_10k        10000.0  0.00  0.03  0.0  0.0  0.0  0.0  1.0\n",
       "[Y=1] data_10k   2213.0  0.00  0.00  0.0  0.0  0.0  0.0  0.0\n",
       "[Y=0] data_10k   7787.0  0.00  0.03  0.0  0.0  0.0  0.0  1.0\n",
       "data_50k        50000.0  0.03  0.16  0.0  0.0  0.0  0.0  1.0"
      ]
     },
     "metadata": {},
     "output_type": "display_data"
    },
    {
     "data": {
      "text/html": [
       "<b style=\"color:orangered\">\"[Y=1] data_10k\" не имеет уникальных значений!</b>"
      ],
      "text/plain": [
       "<IPython.core.display.HTML object>"
      ]
     },
     "metadata": {},
     "output_type": "display_data"
    }
   ],
   "source": [
    "show_info('srv_rerror_rate')"
   ]
  },
  {
   "cell_type": "markdown",
   "metadata": {},
   "source": [
    "**28) same_srv_rate:** <a id=\"f28\"></a>процент соединений с одним и тем же сервисом среди соединений, объединенных в [count (22)](#f22)."
   ]
  },
  {
   "cell_type": "code",
   "execution_count": 37,
   "metadata": {},
   "outputs": [
    {
     "data": {
      "text/markdown": [
       "**Тип:** числовое значение (float64)."
      ],
      "text/plain": [
       "<IPython.core.display.Markdown object>"
      ]
     },
     "metadata": {},
     "output_type": "display_data"
    },
    {
     "data": {
      "text/html": [
       "<div>\n",
       "<style scoped>\n",
       "    .dataframe tbody tr th:only-of-type {\n",
       "        vertical-align: middle;\n",
       "    }\n",
       "\n",
       "    .dataframe tbody tr th {\n",
       "        vertical-align: top;\n",
       "    }\n",
       "\n",
       "    .dataframe thead th {\n",
       "        text-align: right;\n",
       "    }\n",
       "</style>\n",
       "<table border=\"1\" class=\"dataframe\">\n",
       "  <thead>\n",
       "    <tr style=\"text-align: right;\">\n",
       "      <th></th>\n",
       "      <th>count</th>\n",
       "      <th>mean</th>\n",
       "      <th>std</th>\n",
       "      <th>min</th>\n",
       "      <th>25%</th>\n",
       "      <th>50%</th>\n",
       "      <th>75%</th>\n",
       "      <th>max</th>\n",
       "    </tr>\n",
       "  </thead>\n",
       "  <tbody>\n",
       "    <tr>\n",
       "      <th>data_10k</th>\n",
       "      <td>10000.0</td>\n",
       "      <td>1.00</td>\n",
       "      <td>0.03</td>\n",
       "      <td>0.33</td>\n",
       "      <td>1.0</td>\n",
       "      <td>1.0</td>\n",
       "      <td>1.0</td>\n",
       "      <td>1.0</td>\n",
       "    </tr>\n",
       "    <tr>\n",
       "      <th>[Y=1] data_10k</th>\n",
       "      <td>2213.0</td>\n",
       "      <td>1.00</td>\n",
       "      <td>0.00</td>\n",
       "      <td>0.83</td>\n",
       "      <td>1.0</td>\n",
       "      <td>1.0</td>\n",
       "      <td>1.0</td>\n",
       "      <td>1.0</td>\n",
       "    </tr>\n",
       "    <tr>\n",
       "      <th>[Y=0] data_10k</th>\n",
       "      <td>7787.0</td>\n",
       "      <td>1.00</td>\n",
       "      <td>0.04</td>\n",
       "      <td>0.33</td>\n",
       "      <td>1.0</td>\n",
       "      <td>1.0</td>\n",
       "      <td>1.0</td>\n",
       "      <td>1.0</td>\n",
       "    </tr>\n",
       "    <tr>\n",
       "      <th>data_50k</th>\n",
       "      <td>50000.0</td>\n",
       "      <td>0.88</td>\n",
       "      <td>0.32</td>\n",
       "      <td>0.00</td>\n",
       "      <td>1.0</td>\n",
       "      <td>1.0</td>\n",
       "      <td>1.0</td>\n",
       "      <td>1.0</td>\n",
       "    </tr>\n",
       "  </tbody>\n",
       "</table>\n",
       "</div>"
      ],
      "text/plain": [
       "                  count  mean   std   min  25%  50%  75%  max\n",
       "data_10k        10000.0  1.00  0.03  0.33  1.0  1.0  1.0  1.0\n",
       "[Y=1] data_10k   2213.0  1.00  0.00  0.83  1.0  1.0  1.0  1.0\n",
       "[Y=0] data_10k   7787.0  1.00  0.04  0.33  1.0  1.0  1.0  1.0\n",
       "data_50k        50000.0  0.88  0.32  0.00  1.0  1.0  1.0  1.0"
      ]
     },
     "metadata": {},
     "output_type": "display_data"
    }
   ],
   "source": [
    "show_info('same_srv_rate')"
   ]
  },
  {
   "cell_type": "markdown",
   "metadata": {},
   "source": [
    "**29) diff_srv_rate:** <a id=\"f29\"></a>процент соединений с разными сервисами, среди соединений, объединенных в [count (22)](#f22)."
   ]
  },
  {
   "cell_type": "code",
   "execution_count": 38,
   "metadata": {},
   "outputs": [
    {
     "data": {
      "text/markdown": [
       "**Тип:** числовое значение (float64)."
      ],
      "text/plain": [
       "<IPython.core.display.Markdown object>"
      ]
     },
     "metadata": {},
     "output_type": "display_data"
    },
    {
     "data": {
      "text/html": [
       "<div>\n",
       "<style scoped>\n",
       "    .dataframe tbody tr th:only-of-type {\n",
       "        vertical-align: middle;\n",
       "    }\n",
       "\n",
       "    .dataframe tbody tr th {\n",
       "        vertical-align: top;\n",
       "    }\n",
       "\n",
       "    .dataframe thead th {\n",
       "        text-align: right;\n",
       "    }\n",
       "</style>\n",
       "<table border=\"1\" class=\"dataframe\">\n",
       "  <thead>\n",
       "    <tr style=\"text-align: right;\">\n",
       "      <th></th>\n",
       "      <th>count</th>\n",
       "      <th>mean</th>\n",
       "      <th>std</th>\n",
       "      <th>min</th>\n",
       "      <th>25%</th>\n",
       "      <th>50%</th>\n",
       "      <th>75%</th>\n",
       "      <th>max</th>\n",
       "    </tr>\n",
       "  </thead>\n",
       "  <tbody>\n",
       "    <tr>\n",
       "      <th>data_10k</th>\n",
       "      <td>10000.0</td>\n",
       "      <td>0.00</td>\n",
       "      <td>0.06</td>\n",
       "      <td>0.0</td>\n",
       "      <td>0.0</td>\n",
       "      <td>0.0</td>\n",
       "      <td>0.0</td>\n",
       "      <td>1.00</td>\n",
       "    </tr>\n",
       "    <tr>\n",
       "      <th>[Y=1] data_10k</th>\n",
       "      <td>2213.0</td>\n",
       "      <td>0.00</td>\n",
       "      <td>0.01</td>\n",
       "      <td>0.0</td>\n",
       "      <td>0.0</td>\n",
       "      <td>0.0</td>\n",
       "      <td>0.0</td>\n",
       "      <td>0.33</td>\n",
       "    </tr>\n",
       "    <tr>\n",
       "      <th>[Y=0] data_10k</th>\n",
       "      <td>7787.0</td>\n",
       "      <td>0.00</td>\n",
       "      <td>0.06</td>\n",
       "      <td>0.0</td>\n",
       "      <td>0.0</td>\n",
       "      <td>0.0</td>\n",
       "      <td>0.0</td>\n",
       "      <td>1.00</td>\n",
       "    </tr>\n",
       "    <tr>\n",
       "      <th>data_50k</th>\n",
       "      <td>50000.0</td>\n",
       "      <td>0.01</td>\n",
       "      <td>0.07</td>\n",
       "      <td>0.0</td>\n",
       "      <td>0.0</td>\n",
       "      <td>0.0</td>\n",
       "      <td>0.0</td>\n",
       "      <td>1.00</td>\n",
       "    </tr>\n",
       "  </tbody>\n",
       "</table>\n",
       "</div>"
      ],
      "text/plain": [
       "                  count  mean   std  min  25%  50%  75%   max\n",
       "data_10k        10000.0  0.00  0.06  0.0  0.0  0.0  0.0  1.00\n",
       "[Y=1] data_10k   2213.0  0.00  0.01  0.0  0.0  0.0  0.0  0.33\n",
       "[Y=0] data_10k   7787.0  0.00  0.06  0.0  0.0  0.0  0.0  1.00\n",
       "data_50k        50000.0  0.01  0.07  0.0  0.0  0.0  0.0  1.00"
      ]
     },
     "metadata": {},
     "output_type": "display_data"
    }
   ],
   "source": [
    "show_info('diff_srv_rate')"
   ]
  },
  {
   "cell_type": "markdown",
   "metadata": {},
   "source": [
    "**30) srv_diff_host_rate:** <a id=\"f30\"></a>процент соединений с разными машинами назначения среди соединений, объединенных в [srv_count (23)](#f23)."
   ]
  },
  {
   "cell_type": "code",
   "execution_count": 39,
   "metadata": {},
   "outputs": [
    {
     "data": {
      "text/markdown": [
       "**Тип:** числовое значение (float64)."
      ],
      "text/plain": [
       "<IPython.core.display.Markdown object>"
      ]
     },
     "metadata": {},
     "output_type": "display_data"
    },
    {
     "data": {
      "text/html": [
       "<div>\n",
       "<style scoped>\n",
       "    .dataframe tbody tr th:only-of-type {\n",
       "        vertical-align: middle;\n",
       "    }\n",
       "\n",
       "    .dataframe tbody tr th {\n",
       "        vertical-align: top;\n",
       "    }\n",
       "\n",
       "    .dataframe thead th {\n",
       "        text-align: right;\n",
       "    }\n",
       "</style>\n",
       "<table border=\"1\" class=\"dataframe\">\n",
       "  <thead>\n",
       "    <tr style=\"text-align: right;\">\n",
       "      <th></th>\n",
       "      <th>count</th>\n",
       "      <th>mean</th>\n",
       "      <th>std</th>\n",
       "      <th>min</th>\n",
       "      <th>25%</th>\n",
       "      <th>50%</th>\n",
       "      <th>75%</th>\n",
       "      <th>max</th>\n",
       "    </tr>\n",
       "  </thead>\n",
       "  <tbody>\n",
       "    <tr>\n",
       "      <th>data_10k</th>\n",
       "      <td>10000.0</td>\n",
       "      <td>0.10</td>\n",
       "      <td>0.23</td>\n",
       "      <td>0.0</td>\n",
       "      <td>0.0</td>\n",
       "      <td>0.0</td>\n",
       "      <td>0.08</td>\n",
       "      <td>1.0</td>\n",
       "    </tr>\n",
       "    <tr>\n",
       "      <th>[Y=1] data_10k</th>\n",
       "      <td>2213.0</td>\n",
       "      <td>0.00</td>\n",
       "      <td>0.00</td>\n",
       "      <td>0.0</td>\n",
       "      <td>0.0</td>\n",
       "      <td>0.0</td>\n",
       "      <td>0.00</td>\n",
       "      <td>0.0</td>\n",
       "    </tr>\n",
       "    <tr>\n",
       "      <th>[Y=0] data_10k</th>\n",
       "      <td>7787.0</td>\n",
       "      <td>0.12</td>\n",
       "      <td>0.25</td>\n",
       "      <td>0.0</td>\n",
       "      <td>0.0</td>\n",
       "      <td>0.0</td>\n",
       "      <td>0.14</td>\n",
       "      <td>1.0</td>\n",
       "    </tr>\n",
       "    <tr>\n",
       "      <th>data_50k</th>\n",
       "      <td>50000.0</td>\n",
       "      <td>0.10</td>\n",
       "      <td>0.24</td>\n",
       "      <td>0.0</td>\n",
       "      <td>0.0</td>\n",
       "      <td>0.0</td>\n",
       "      <td>0.04</td>\n",
       "      <td>1.0</td>\n",
       "    </tr>\n",
       "  </tbody>\n",
       "</table>\n",
       "</div>"
      ],
      "text/plain": [
       "                  count  mean   std  min  25%  50%   75%  max\n",
       "data_10k        10000.0  0.10  0.23  0.0  0.0  0.0  0.08  1.0\n",
       "[Y=1] data_10k   2213.0  0.00  0.00  0.0  0.0  0.0  0.00  0.0\n",
       "[Y=0] data_10k   7787.0  0.12  0.25  0.0  0.0  0.0  0.14  1.0\n",
       "data_50k        50000.0  0.10  0.24  0.0  0.0  0.0  0.04  1.0"
      ]
     },
     "metadata": {},
     "output_type": "display_data"
    },
    {
     "data": {
      "text/html": [
       "<b style=\"color:orangered\">\"[Y=1] data_10k\" не имеет уникальных значений!</b>"
      ],
      "text/plain": [
       "<IPython.core.display.HTML object>"
      ]
     },
     "metadata": {},
     "output_type": "display_data"
    }
   ],
   "source": [
    "show_info('srv_diff_host_rate')"
   ]
  },
  {
   "cell_type": "markdown",
   "metadata": {},
   "source": [
    "#### 2.2.5. Особенности трафика на основе хоста в векторе сетевого соединения <a id=\"fg5\"></a>"
   ]
  },
  {
   "cell_type": "markdown",
   "metadata": {},
   "source": [
    "**31) dst_host_count:** <a id=\"f31\"></a>количество соединений с одинаковым IP-адресом хоста назначения."
   ]
  },
  {
   "cell_type": "code",
   "execution_count": 40,
   "metadata": {},
   "outputs": [
    {
     "data": {
      "text/markdown": [
       "**Тип:** числовое значение (int64)."
      ],
      "text/plain": [
       "<IPython.core.display.Markdown object>"
      ]
     },
     "metadata": {},
     "output_type": "display_data"
    },
    {
     "data": {
      "text/html": [
       "<div>\n",
       "<style scoped>\n",
       "    .dataframe tbody tr th:only-of-type {\n",
       "        vertical-align: middle;\n",
       "    }\n",
       "\n",
       "    .dataframe tbody tr th {\n",
       "        vertical-align: top;\n",
       "    }\n",
       "\n",
       "    .dataframe thead th {\n",
       "        text-align: right;\n",
       "    }\n",
       "</style>\n",
       "<table border=\"1\" class=\"dataframe\">\n",
       "  <thead>\n",
       "    <tr style=\"text-align: right;\">\n",
       "      <th></th>\n",
       "      <th>count</th>\n",
       "      <th>mean</th>\n",
       "      <th>std</th>\n",
       "      <th>min</th>\n",
       "      <th>25%</th>\n",
       "      <th>50%</th>\n",
       "      <th>75%</th>\n",
       "      <th>max</th>\n",
       "    </tr>\n",
       "  </thead>\n",
       "  <tbody>\n",
       "    <tr>\n",
       "      <th>data_10k</th>\n",
       "      <td>10000.0</td>\n",
       "      <td>150.88</td>\n",
       "      <td>106.20</td>\n",
       "      <td>1.0</td>\n",
       "      <td>34.0</td>\n",
       "      <td>178.0</td>\n",
       "      <td>255.0</td>\n",
       "      <td>255.0</td>\n",
       "    </tr>\n",
       "    <tr>\n",
       "      <th>[Y=1] data_10k</th>\n",
       "      <td>2213.0</td>\n",
       "      <td>254.07</td>\n",
       "      <td>13.32</td>\n",
       "      <td>1.0</td>\n",
       "      <td>255.0</td>\n",
       "      <td>255.0</td>\n",
       "      <td>255.0</td>\n",
       "      <td>255.0</td>\n",
       "    </tr>\n",
       "    <tr>\n",
       "      <th>[Y=0] data_10k</th>\n",
       "      <td>7787.0</td>\n",
       "      <td>121.56</td>\n",
       "      <td>102.71</td>\n",
       "      <td>1.0</td>\n",
       "      <td>23.0</td>\n",
       "      <td>84.0</td>\n",
       "      <td>255.0</td>\n",
       "      <td>255.0</td>\n",
       "    </tr>\n",
       "    <tr>\n",
       "      <th>data_50k</th>\n",
       "      <td>50000.0</td>\n",
       "      <td>171.09</td>\n",
       "      <td>102.45</td>\n",
       "      <td>0.0</td>\n",
       "      <td>57.0</td>\n",
       "      <td>255.0</td>\n",
       "      <td>255.0</td>\n",
       "      <td>255.0</td>\n",
       "    </tr>\n",
       "  </tbody>\n",
       "</table>\n",
       "</div>"
      ],
      "text/plain": [
       "                  count    mean     std  min    25%    50%    75%    max\n",
       "data_10k        10000.0  150.88  106.20  1.0   34.0  178.0  255.0  255.0\n",
       "[Y=1] data_10k   2213.0  254.07   13.32  1.0  255.0  255.0  255.0  255.0\n",
       "[Y=0] data_10k   7787.0  121.56  102.71  1.0   23.0   84.0  255.0  255.0\n",
       "data_50k        50000.0  171.09  102.45  0.0   57.0  255.0  255.0  255.0"
      ]
     },
     "metadata": {},
     "output_type": "display_data"
    }
   ],
   "source": [
    "show_info('dst_host_count')"
   ]
  },
  {
   "cell_type": "markdown",
   "metadata": {},
   "source": [
    "**32) dst_host_srv_count:** <a id=\"f32\"></a>количество соединений с одинаковым номером порта."
   ]
  },
  {
   "cell_type": "code",
   "execution_count": 41,
   "metadata": {},
   "outputs": [
    {
     "data": {
      "text/markdown": [
       "**Тип:** числовое значение (int64)."
      ],
      "text/plain": [
       "<IPython.core.display.Markdown object>"
      ]
     },
     "metadata": {},
     "output_type": "display_data"
    },
    {
     "data": {
      "text/html": [
       "<div>\n",
       "<style scoped>\n",
       "    .dataframe tbody tr th:only-of-type {\n",
       "        vertical-align: middle;\n",
       "    }\n",
       "\n",
       "    .dataframe tbody tr th {\n",
       "        vertical-align: top;\n",
       "    }\n",
       "\n",
       "    .dataframe thead th {\n",
       "        text-align: right;\n",
       "    }\n",
       "</style>\n",
       "<table border=\"1\" class=\"dataframe\">\n",
       "  <thead>\n",
       "    <tr style=\"text-align: right;\">\n",
       "      <th></th>\n",
       "      <th>count</th>\n",
       "      <th>mean</th>\n",
       "      <th>std</th>\n",
       "      <th>min</th>\n",
       "      <th>25%</th>\n",
       "      <th>50%</th>\n",
       "      <th>75%</th>\n",
       "      <th>max</th>\n",
       "    </tr>\n",
       "  </thead>\n",
       "  <tbody>\n",
       "    <tr>\n",
       "      <th>data_10k</th>\n",
       "      <td>10000.0</td>\n",
       "      <td>240.94</td>\n",
       "      <td>48.19</td>\n",
       "      <td>1.0</td>\n",
       "      <td>255.0</td>\n",
       "      <td>255.0</td>\n",
       "      <td>255.0</td>\n",
       "      <td>255.0</td>\n",
       "    </tr>\n",
       "    <tr>\n",
       "      <th>[Y=1] data_10k</th>\n",
       "      <td>2213.0</td>\n",
       "      <td>252.84</td>\n",
       "      <td>20.45</td>\n",
       "      <td>2.0</td>\n",
       "      <td>255.0</td>\n",
       "      <td>255.0</td>\n",
       "      <td>255.0</td>\n",
       "      <td>255.0</td>\n",
       "    </tr>\n",
       "    <tr>\n",
       "      <th>[Y=0] data_10k</th>\n",
       "      <td>7787.0</td>\n",
       "      <td>237.56</td>\n",
       "      <td>53.03</td>\n",
       "      <td>1.0</td>\n",
       "      <td>255.0</td>\n",
       "      <td>255.0</td>\n",
       "      <td>255.0</td>\n",
       "      <td>255.0</td>\n",
       "    </tr>\n",
       "    <tr>\n",
       "      <th>data_50k</th>\n",
       "      <td>50000.0</td>\n",
       "      <td>200.72</td>\n",
       "      <td>94.24</td>\n",
       "      <td>0.0</td>\n",
       "      <td>175.0</td>\n",
       "      <td>255.0</td>\n",
       "      <td>255.0</td>\n",
       "      <td>255.0</td>\n",
       "    </tr>\n",
       "  </tbody>\n",
       "</table>\n",
       "</div>"
      ],
      "text/plain": [
       "                  count    mean    std  min    25%    50%    75%    max\n",
       "data_10k        10000.0  240.94  48.19  1.0  255.0  255.0  255.0  255.0\n",
       "[Y=1] data_10k   2213.0  252.84  20.45  2.0  255.0  255.0  255.0  255.0\n",
       "[Y=0] data_10k   7787.0  237.56  53.03  1.0  255.0  255.0  255.0  255.0\n",
       "data_50k        50000.0  200.72  94.24  0.0  175.0  255.0  255.0  255.0"
      ]
     },
     "metadata": {},
     "output_type": "display_data"
    }
   ],
   "source": [
    "show_info('dst_host_srv_count')"
   ]
  },
  {
   "cell_type": "markdown",
   "metadata": {},
   "source": [
    "**33) dst_host_same_srv_rate:** <a id=\"f33\"></a>процент соединений с одним и тем же сервисом среди соединений, объединенных в [dst_host_count (31)](#f31)."
   ]
  },
  {
   "cell_type": "code",
   "execution_count": 42,
   "metadata": {},
   "outputs": [
    {
     "data": {
      "text/markdown": [
       "**Тип:** числовое значение (float64)."
      ],
      "text/plain": [
       "<IPython.core.display.Markdown object>"
      ]
     },
     "metadata": {},
     "output_type": "display_data"
    },
    {
     "data": {
      "text/html": [
       "<div>\n",
       "<style scoped>\n",
       "    .dataframe tbody tr th:only-of-type {\n",
       "        vertical-align: middle;\n",
       "    }\n",
       "\n",
       "    .dataframe tbody tr th {\n",
       "        vertical-align: top;\n",
       "    }\n",
       "\n",
       "    .dataframe thead th {\n",
       "        text-align: right;\n",
       "    }\n",
       "</style>\n",
       "<table border=\"1\" class=\"dataframe\">\n",
       "  <thead>\n",
       "    <tr style=\"text-align: right;\">\n",
       "      <th></th>\n",
       "      <th>count</th>\n",
       "      <th>mean</th>\n",
       "      <th>std</th>\n",
       "      <th>min</th>\n",
       "      <th>25%</th>\n",
       "      <th>50%</th>\n",
       "      <th>75%</th>\n",
       "      <th>max</th>\n",
       "    </tr>\n",
       "  </thead>\n",
       "  <tbody>\n",
       "    <tr>\n",
       "      <th>data_10k</th>\n",
       "      <td>10000.0</td>\n",
       "      <td>0.98</td>\n",
       "      <td>0.11</td>\n",
       "      <td>0.00</td>\n",
       "      <td>1.0</td>\n",
       "      <td>1.0</td>\n",
       "      <td>1.0</td>\n",
       "      <td>1.0</td>\n",
       "    </tr>\n",
       "    <tr>\n",
       "      <th>[Y=1] data_10k</th>\n",
       "      <td>2213.0</td>\n",
       "      <td>0.99</td>\n",
       "      <td>0.06</td>\n",
       "      <td>0.02</td>\n",
       "      <td>1.0</td>\n",
       "      <td>1.0</td>\n",
       "      <td>1.0</td>\n",
       "      <td>1.0</td>\n",
       "    </tr>\n",
       "    <tr>\n",
       "      <th>[Y=0] data_10k</th>\n",
       "      <td>7787.0</td>\n",
       "      <td>0.97</td>\n",
       "      <td>0.12</td>\n",
       "      <td>0.00</td>\n",
       "      <td>1.0</td>\n",
       "      <td>1.0</td>\n",
       "      <td>1.0</td>\n",
       "      <td>1.0</td>\n",
       "    </tr>\n",
       "    <tr>\n",
       "      <th>data_50k</th>\n",
       "      <td>50000.0</td>\n",
       "      <td>0.82</td>\n",
       "      <td>0.35</td>\n",
       "      <td>0.00</td>\n",
       "      <td>1.0</td>\n",
       "      <td>1.0</td>\n",
       "      <td>1.0</td>\n",
       "      <td>1.0</td>\n",
       "    </tr>\n",
       "  </tbody>\n",
       "</table>\n",
       "</div>"
      ],
      "text/plain": [
       "                  count  mean   std   min  25%  50%  75%  max\n",
       "data_10k        10000.0  0.98  0.11  0.00  1.0  1.0  1.0  1.0\n",
       "[Y=1] data_10k   2213.0  0.99  0.06  0.02  1.0  1.0  1.0  1.0\n",
       "[Y=0] data_10k   7787.0  0.97  0.12  0.00  1.0  1.0  1.0  1.0\n",
       "data_50k        50000.0  0.82  0.35  0.00  1.0  1.0  1.0  1.0"
      ]
     },
     "metadata": {},
     "output_type": "display_data"
    }
   ],
   "source": [
    "show_info('dst_host_same_srv_rate')"
   ]
  },
  {
   "cell_type": "markdown",
   "metadata": {},
   "source": [
    "**34) dst_host_diff_srv_rate:** <a id=\"f34\"></a>процент соединений с разными сервисами среди соединений, объединенных в [dst_host_count (31)](#f31)."
   ]
  },
  {
   "cell_type": "code",
   "execution_count": 43,
   "metadata": {},
   "outputs": [
    {
     "data": {
      "text/markdown": [
       "**Тип:** числовое значение (float64)."
      ],
      "text/plain": [
       "<IPython.core.display.Markdown object>"
      ]
     },
     "metadata": {},
     "output_type": "display_data"
    },
    {
     "data": {
      "text/html": [
       "<div>\n",
       "<style scoped>\n",
       "    .dataframe tbody tr th:only-of-type {\n",
       "        vertical-align: middle;\n",
       "    }\n",
       "\n",
       "    .dataframe tbody tr th {\n",
       "        vertical-align: top;\n",
       "    }\n",
       "\n",
       "    .dataframe thead th {\n",
       "        text-align: right;\n",
       "    }\n",
       "</style>\n",
       "<table border=\"1\" class=\"dataframe\">\n",
       "  <thead>\n",
       "    <tr style=\"text-align: right;\">\n",
       "      <th></th>\n",
       "      <th>count</th>\n",
       "      <th>mean</th>\n",
       "      <th>std</th>\n",
       "      <th>min</th>\n",
       "      <th>25%</th>\n",
       "      <th>50%</th>\n",
       "      <th>75%</th>\n",
       "      <th>max</th>\n",
       "    </tr>\n",
       "  </thead>\n",
       "  <tbody>\n",
       "    <tr>\n",
       "      <th>data_10k</th>\n",
       "      <td>10000.0</td>\n",
       "      <td>0.00</td>\n",
       "      <td>0.03</td>\n",
       "      <td>0.0</td>\n",
       "      <td>0.0</td>\n",
       "      <td>0.0</td>\n",
       "      <td>0.00</td>\n",
       "      <td>1.00</td>\n",
       "    </tr>\n",
       "    <tr>\n",
       "      <th>[Y=1] data_10k</th>\n",
       "      <td>2213.0</td>\n",
       "      <td>0.00</td>\n",
       "      <td>0.00</td>\n",
       "      <td>0.0</td>\n",
       "      <td>0.0</td>\n",
       "      <td>0.0</td>\n",
       "      <td>0.00</td>\n",
       "      <td>0.06</td>\n",
       "    </tr>\n",
       "    <tr>\n",
       "      <th>[Y=0] data_10k</th>\n",
       "      <td>7787.0</td>\n",
       "      <td>0.01</td>\n",
       "      <td>0.04</td>\n",
       "      <td>0.0</td>\n",
       "      <td>0.0</td>\n",
       "      <td>0.0</td>\n",
       "      <td>0.00</td>\n",
       "      <td>1.00</td>\n",
       "    </tr>\n",
       "    <tr>\n",
       "      <th>data_50k</th>\n",
       "      <td>50000.0</td>\n",
       "      <td>0.02</td>\n",
       "      <td>0.08</td>\n",
       "      <td>0.0</td>\n",
       "      <td>0.0</td>\n",
       "      <td>0.0</td>\n",
       "      <td>0.01</td>\n",
       "      <td>1.00</td>\n",
       "    </tr>\n",
       "  </tbody>\n",
       "</table>\n",
       "</div>"
      ],
      "text/plain": [
       "                  count  mean   std  min  25%  50%   75%   max\n",
       "data_10k        10000.0  0.00  0.03  0.0  0.0  0.0  0.00  1.00\n",
       "[Y=1] data_10k   2213.0  0.00  0.00  0.0  0.0  0.0  0.00  0.06\n",
       "[Y=0] data_10k   7787.0  0.01  0.04  0.0  0.0  0.0  0.00  1.00\n",
       "data_50k        50000.0  0.02  0.08  0.0  0.0  0.0  0.01  1.00"
      ]
     },
     "metadata": {},
     "output_type": "display_data"
    }
   ],
   "source": [
    "show_info('dst_host_diff_srv_rate')"
   ]
  },
  {
   "cell_type": "markdown",
   "metadata": {},
   "source": [
    "**35) dst_host_same_src_port_rate:** <a id=\"f35\"></a>процент соединений с одним и тем же портом источника среди соединений, объединенных в [dst_host_srv_count (32)](#f32)."
   ]
  },
  {
   "cell_type": "code",
   "execution_count": 44,
   "metadata": {},
   "outputs": [
    {
     "data": {
      "text/markdown": [
       "**Тип:** числовое значение (float64)."
      ],
      "text/plain": [
       "<IPython.core.display.Markdown object>"
      ]
     },
     "metadata": {},
     "output_type": "display_data"
    },
    {
     "data": {
      "text/html": [
       "<div>\n",
       "<style scoped>\n",
       "    .dataframe tbody tr th:only-of-type {\n",
       "        vertical-align: middle;\n",
       "    }\n",
       "\n",
       "    .dataframe tbody tr th {\n",
       "        vertical-align: top;\n",
       "    }\n",
       "\n",
       "    .dataframe thead th {\n",
       "        text-align: right;\n",
       "    }\n",
       "</style>\n",
       "<table border=\"1\" class=\"dataframe\">\n",
       "  <thead>\n",
       "    <tr style=\"text-align: right;\">\n",
       "      <th></th>\n",
       "      <th>count</th>\n",
       "      <th>mean</th>\n",
       "      <th>std</th>\n",
       "      <th>min</th>\n",
       "      <th>25%</th>\n",
       "      <th>50%</th>\n",
       "      <th>75%</th>\n",
       "      <th>max</th>\n",
       "    </tr>\n",
       "  </thead>\n",
       "  <tbody>\n",
       "    <tr>\n",
       "      <th>data_10k</th>\n",
       "      <td>10000.0</td>\n",
       "      <td>0.27</td>\n",
       "      <td>0.41</td>\n",
       "      <td>0.00</td>\n",
       "      <td>0.0</td>\n",
       "      <td>0.03</td>\n",
       "      <td>0.50</td>\n",
       "      <td>1.0</td>\n",
       "    </tr>\n",
       "    <tr>\n",
       "      <th>[Y=1] data_10k</th>\n",
       "      <td>2213.0</td>\n",
       "      <td>0.99</td>\n",
       "      <td>0.07</td>\n",
       "      <td>0.01</td>\n",
       "      <td>1.0</td>\n",
       "      <td>1.00</td>\n",
       "      <td>1.00</td>\n",
       "      <td>1.0</td>\n",
       "    </tr>\n",
       "    <tr>\n",
       "      <th>[Y=0] data_10k</th>\n",
       "      <td>7787.0</td>\n",
       "      <td>0.07</td>\n",
       "      <td>0.17</td>\n",
       "      <td>0.00</td>\n",
       "      <td>0.0</td>\n",
       "      <td>0.01</td>\n",
       "      <td>0.05</td>\n",
       "      <td>1.0</td>\n",
       "    </tr>\n",
       "    <tr>\n",
       "      <th>data_50k</th>\n",
       "      <td>50000.0</td>\n",
       "      <td>0.25</td>\n",
       "      <td>0.40</td>\n",
       "      <td>0.00</td>\n",
       "      <td>0.0</td>\n",
       "      <td>0.01</td>\n",
       "      <td>0.33</td>\n",
       "      <td>1.0</td>\n",
       "    </tr>\n",
       "  </tbody>\n",
       "</table>\n",
       "</div>"
      ],
      "text/plain": [
       "                  count  mean   std   min  25%   50%   75%  max\n",
       "data_10k        10000.0  0.27  0.41  0.00  0.0  0.03  0.50  1.0\n",
       "[Y=1] data_10k   2213.0  0.99  0.07  0.01  1.0  1.00  1.00  1.0\n",
       "[Y=0] data_10k   7787.0  0.07  0.17  0.00  0.0  0.01  0.05  1.0\n",
       "data_50k        50000.0  0.25  0.40  0.00  0.0  0.01  0.33  1.0"
      ]
     },
     "metadata": {},
     "output_type": "display_data"
    }
   ],
   "source": [
    "show_info('dst_host_same_src_port_rate')"
   ]
  },
  {
   "cell_type": "markdown",
   "metadata": {},
   "source": [
    "**36) dst_host_srv_diff_host_rate:** <a id=\"f36\"></a>процент соединений с разными машинами назначения среди соединений, объединенных в [dst_host_srv_count (32)](#f32)."
   ]
  },
  {
   "cell_type": "code",
   "execution_count": 45,
   "metadata": {},
   "outputs": [
    {
     "data": {
      "text/markdown": [
       "**Тип:** числовое значение (float64)."
      ],
      "text/plain": [
       "<IPython.core.display.Markdown object>"
      ]
     },
     "metadata": {},
     "output_type": "display_data"
    },
    {
     "data": {
      "text/html": [
       "<div>\n",
       "<style scoped>\n",
       "    .dataframe tbody tr th:only-of-type {\n",
       "        vertical-align: middle;\n",
       "    }\n",
       "\n",
       "    .dataframe tbody tr th {\n",
       "        vertical-align: top;\n",
       "    }\n",
       "\n",
       "    .dataframe thead th {\n",
       "        text-align: right;\n",
       "    }\n",
       "</style>\n",
       "<table border=\"1\" class=\"dataframe\">\n",
       "  <thead>\n",
       "    <tr style=\"text-align: right;\">\n",
       "      <th></th>\n",
       "      <th>count</th>\n",
       "      <th>mean</th>\n",
       "      <th>std</th>\n",
       "      <th>min</th>\n",
       "      <th>25%</th>\n",
       "      <th>50%</th>\n",
       "      <th>75%</th>\n",
       "      <th>max</th>\n",
       "    </tr>\n",
       "  </thead>\n",
       "  <tbody>\n",
       "    <tr>\n",
       "      <th>data_10k</th>\n",
       "      <td>10000.0</td>\n",
       "      <td>0.02</td>\n",
       "      <td>0.03</td>\n",
       "      <td>0.0</td>\n",
       "      <td>0.0</td>\n",
       "      <td>0.01</td>\n",
       "      <td>0.03</td>\n",
       "      <td>1.00</td>\n",
       "    </tr>\n",
       "    <tr>\n",
       "      <th>[Y=1] data_10k</th>\n",
       "      <td>2213.0</td>\n",
       "      <td>0.00</td>\n",
       "      <td>0.02</td>\n",
       "      <td>0.0</td>\n",
       "      <td>0.0</td>\n",
       "      <td>0.00</td>\n",
       "      <td>0.00</td>\n",
       "      <td>0.67</td>\n",
       "    </tr>\n",
       "    <tr>\n",
       "      <th>[Y=0] data_10k</th>\n",
       "      <td>7787.0</td>\n",
       "      <td>0.02</td>\n",
       "      <td>0.03</td>\n",
       "      <td>0.0</td>\n",
       "      <td>0.0</td>\n",
       "      <td>0.02</td>\n",
       "      <td>0.04</td>\n",
       "      <td>1.00</td>\n",
       "    </tr>\n",
       "    <tr>\n",
       "      <th>data_50k</th>\n",
       "      <td>50000.0</td>\n",
       "      <td>0.02</td>\n",
       "      <td>0.07</td>\n",
       "      <td>0.0</td>\n",
       "      <td>0.0</td>\n",
       "      <td>0.00</td>\n",
       "      <td>0.02</td>\n",
       "      <td>1.00</td>\n",
       "    </tr>\n",
       "  </tbody>\n",
       "</table>\n",
       "</div>"
      ],
      "text/plain": [
       "                  count  mean   std  min  25%   50%   75%   max\n",
       "data_10k        10000.0  0.02  0.03  0.0  0.0  0.01  0.03  1.00\n",
       "[Y=1] data_10k   2213.0  0.00  0.02  0.0  0.0  0.00  0.00  0.67\n",
       "[Y=0] data_10k   7787.0  0.02  0.03  0.0  0.0  0.02  0.04  1.00\n",
       "data_50k        50000.0  0.02  0.07  0.0  0.0  0.00  0.02  1.00"
      ]
     },
     "metadata": {},
     "output_type": "display_data"
    }
   ],
   "source": [
    "show_info('dst_host_srv_diff_host_rate')"
   ]
  },
  {
   "cell_type": "markdown",
   "metadata": {},
   "source": [
    "**37) dst_host_serror_rate:** <a id=\"f37\"></a>процент соединений, активировавших [flag (3)](#f3) s0, s1, s2 или s3, среди соединений, объединенных в [dst_host_count (31)](#f31)."
   ]
  },
  {
   "cell_type": "code",
   "execution_count": 46,
   "metadata": {},
   "outputs": [
    {
     "data": {
      "text/markdown": [
       "**Тип:** числовое значение (float64)."
      ],
      "text/plain": [
       "<IPython.core.display.Markdown object>"
      ]
     },
     "metadata": {},
     "output_type": "display_data"
    },
    {
     "data": {
      "text/html": [
       "<div>\n",
       "<style scoped>\n",
       "    .dataframe tbody tr th:only-of-type {\n",
       "        vertical-align: middle;\n",
       "    }\n",
       "\n",
       "    .dataframe tbody tr th {\n",
       "        vertical-align: top;\n",
       "    }\n",
       "\n",
       "    .dataframe thead th {\n",
       "        text-align: right;\n",
       "    }\n",
       "</style>\n",
       "<table border=\"1\" class=\"dataframe\">\n",
       "  <thead>\n",
       "    <tr style=\"text-align: right;\">\n",
       "      <th></th>\n",
       "      <th>count</th>\n",
       "      <th>mean</th>\n",
       "      <th>std</th>\n",
       "      <th>min</th>\n",
       "      <th>25%</th>\n",
       "      <th>50%</th>\n",
       "      <th>75%</th>\n",
       "      <th>max</th>\n",
       "    </tr>\n",
       "  </thead>\n",
       "  <tbody>\n",
       "    <tr>\n",
       "      <th>data_10k</th>\n",
       "      <td>10000.0</td>\n",
       "      <td>0.00</td>\n",
       "      <td>0.02</td>\n",
       "      <td>0.0</td>\n",
       "      <td>0.0</td>\n",
       "      <td>0.0</td>\n",
       "      <td>0.0</td>\n",
       "      <td>1.0</td>\n",
       "    </tr>\n",
       "    <tr>\n",
       "      <th>[Y=1] data_10k</th>\n",
       "      <td>2213.0</td>\n",
       "      <td>0.00</td>\n",
       "      <td>0.03</td>\n",
       "      <td>0.0</td>\n",
       "      <td>0.0</td>\n",
       "      <td>0.0</td>\n",
       "      <td>0.0</td>\n",
       "      <td>1.0</td>\n",
       "    </tr>\n",
       "    <tr>\n",
       "      <th>[Y=0] data_10k</th>\n",
       "      <td>7787.0</td>\n",
       "      <td>0.00</td>\n",
       "      <td>0.02</td>\n",
       "      <td>0.0</td>\n",
       "      <td>0.0</td>\n",
       "      <td>0.0</td>\n",
       "      <td>0.0</td>\n",
       "      <td>1.0</td>\n",
       "    </tr>\n",
       "    <tr>\n",
       "      <th>data_50k</th>\n",
       "      <td>50000.0</td>\n",
       "      <td>0.13</td>\n",
       "      <td>0.34</td>\n",
       "      <td>0.0</td>\n",
       "      <td>0.0</td>\n",
       "      <td>0.0</td>\n",
       "      <td>0.0</td>\n",
       "      <td>1.0</td>\n",
       "    </tr>\n",
       "  </tbody>\n",
       "</table>\n",
       "</div>"
      ],
      "text/plain": [
       "                  count  mean   std  min  25%  50%  75%  max\n",
       "data_10k        10000.0  0.00  0.02  0.0  0.0  0.0  0.0  1.0\n",
       "[Y=1] data_10k   2213.0  0.00  0.03  0.0  0.0  0.0  0.0  1.0\n",
       "[Y=0] data_10k   7787.0  0.00  0.02  0.0  0.0  0.0  0.0  1.0\n",
       "data_50k        50000.0  0.13  0.34  0.0  0.0  0.0  0.0  1.0"
      ]
     },
     "metadata": {},
     "output_type": "display_data"
    }
   ],
   "source": [
    "show_info('dst_host_serror_rate')"
   ]
  },
  {
   "cell_type": "markdown",
   "metadata": {},
   "source": [
    "**38) dst_host_srv_serror_rate:** <a id=\"f38\"></a>процент соединений, активировавших [flag (3)](#f3) s0, s1, s2 или s3, среди соединений, объединенных в [dst_host_srv_count (32)](#f32)."
   ]
  },
  {
   "cell_type": "code",
   "execution_count": 47,
   "metadata": {},
   "outputs": [
    {
     "data": {
      "text/markdown": [
       "**Тип:** числовое значение (float64)."
      ],
      "text/plain": [
       "<IPython.core.display.Markdown object>"
      ]
     },
     "metadata": {},
     "output_type": "display_data"
    },
    {
     "data": {
      "text/html": [
       "<div>\n",
       "<style scoped>\n",
       "    .dataframe tbody tr th:only-of-type {\n",
       "        vertical-align: middle;\n",
       "    }\n",
       "\n",
       "    .dataframe tbody tr th {\n",
       "        vertical-align: top;\n",
       "    }\n",
       "\n",
       "    .dataframe thead th {\n",
       "        text-align: right;\n",
       "    }\n",
       "</style>\n",
       "<table border=\"1\" class=\"dataframe\">\n",
       "  <thead>\n",
       "    <tr style=\"text-align: right;\">\n",
       "      <th></th>\n",
       "      <th>count</th>\n",
       "      <th>mean</th>\n",
       "      <th>std</th>\n",
       "      <th>min</th>\n",
       "      <th>25%</th>\n",
       "      <th>50%</th>\n",
       "      <th>75%</th>\n",
       "      <th>max</th>\n",
       "    </tr>\n",
       "  </thead>\n",
       "  <tbody>\n",
       "    <tr>\n",
       "      <th>data_10k</th>\n",
       "      <td>10000.0</td>\n",
       "      <td>0.00</td>\n",
       "      <td>0.02</td>\n",
       "      <td>0.0</td>\n",
       "      <td>0.0</td>\n",
       "      <td>0.0</td>\n",
       "      <td>0.0</td>\n",
       "      <td>0.94</td>\n",
       "    </tr>\n",
       "    <tr>\n",
       "      <th>[Y=1] data_10k</th>\n",
       "      <td>2213.0</td>\n",
       "      <td>0.00</td>\n",
       "      <td>0.03</td>\n",
       "      <td>0.0</td>\n",
       "      <td>0.0</td>\n",
       "      <td>0.0</td>\n",
       "      <td>0.0</td>\n",
       "      <td>0.94</td>\n",
       "    </tr>\n",
       "    <tr>\n",
       "      <th>[Y=0] data_10k</th>\n",
       "      <td>7787.0</td>\n",
       "      <td>0.00</td>\n",
       "      <td>0.01</td>\n",
       "      <td>0.0</td>\n",
       "      <td>0.0</td>\n",
       "      <td>0.0</td>\n",
       "      <td>0.0</td>\n",
       "      <td>0.84</td>\n",
       "    </tr>\n",
       "    <tr>\n",
       "      <th>data_50k</th>\n",
       "      <td>50000.0</td>\n",
       "      <td>0.13</td>\n",
       "      <td>0.34</td>\n",
       "      <td>0.0</td>\n",
       "      <td>0.0</td>\n",
       "      <td>0.0</td>\n",
       "      <td>0.0</td>\n",
       "      <td>1.00</td>\n",
       "    </tr>\n",
       "  </tbody>\n",
       "</table>\n",
       "</div>"
      ],
      "text/plain": [
       "                  count  mean   std  min  25%  50%  75%   max\n",
       "data_10k        10000.0  0.00  0.02  0.0  0.0  0.0  0.0  0.94\n",
       "[Y=1] data_10k   2213.0  0.00  0.03  0.0  0.0  0.0  0.0  0.94\n",
       "[Y=0] data_10k   7787.0  0.00  0.01  0.0  0.0  0.0  0.0  0.84\n",
       "data_50k        50000.0  0.13  0.34  0.0  0.0  0.0  0.0  1.00"
      ]
     },
     "metadata": {},
     "output_type": "display_data"
    }
   ],
   "source": [
    "show_info('dst_host_srv_serror_rate')"
   ]
  },
  {
   "cell_type": "markdown",
   "metadata": {},
   "source": [
    "**39) dst_host_rerror_rate:** <a id=\"f39\"></a>процент соединений, активировавших [flag (3)](#f3) REJ, среди соединений, объединенных в [dst_host_count (31)](#f31)."
   ]
  },
  {
   "cell_type": "code",
   "execution_count": 48,
   "metadata": {},
   "outputs": [
    {
     "data": {
      "text/markdown": [
       "**Тип:** числовое значение (float64)."
      ],
      "text/plain": [
       "<IPython.core.display.Markdown object>"
      ]
     },
     "metadata": {},
     "output_type": "display_data"
    },
    {
     "data": {
      "text/html": [
       "<div>\n",
       "<style scoped>\n",
       "    .dataframe tbody tr th:only-of-type {\n",
       "        vertical-align: middle;\n",
       "    }\n",
       "\n",
       "    .dataframe tbody tr th {\n",
       "        vertical-align: top;\n",
       "    }\n",
       "\n",
       "    .dataframe thead th {\n",
       "        text-align: right;\n",
       "    }\n",
       "</style>\n",
       "<table border=\"1\" class=\"dataframe\">\n",
       "  <thead>\n",
       "    <tr style=\"text-align: right;\">\n",
       "      <th></th>\n",
       "      <th>count</th>\n",
       "      <th>mean</th>\n",
       "      <th>std</th>\n",
       "      <th>min</th>\n",
       "      <th>25%</th>\n",
       "      <th>50%</th>\n",
       "      <th>75%</th>\n",
       "      <th>max</th>\n",
       "    </tr>\n",
       "  </thead>\n",
       "  <tbody>\n",
       "    <tr>\n",
       "      <th>data_10k</th>\n",
       "      <td>10000.0</td>\n",
       "      <td>0.00</td>\n",
       "      <td>0.03</td>\n",
       "      <td>0.0</td>\n",
       "      <td>0.0</td>\n",
       "      <td>0.0</td>\n",
       "      <td>0.0</td>\n",
       "      <td>1.0</td>\n",
       "    </tr>\n",
       "    <tr>\n",
       "      <th>[Y=1] data_10k</th>\n",
       "      <td>2213.0</td>\n",
       "      <td>0.00</td>\n",
       "      <td>0.00</td>\n",
       "      <td>0.0</td>\n",
       "      <td>0.0</td>\n",
       "      <td>0.0</td>\n",
       "      <td>0.0</td>\n",
       "      <td>0.0</td>\n",
       "    </tr>\n",
       "    <tr>\n",
       "      <th>[Y=0] data_10k</th>\n",
       "      <td>7787.0</td>\n",
       "      <td>0.00</td>\n",
       "      <td>0.03</td>\n",
       "      <td>0.0</td>\n",
       "      <td>0.0</td>\n",
       "      <td>0.0</td>\n",
       "      <td>0.0</td>\n",
       "      <td>1.0</td>\n",
       "    </tr>\n",
       "    <tr>\n",
       "      <th>data_50k</th>\n",
       "      <td>50000.0</td>\n",
       "      <td>0.03</td>\n",
       "      <td>0.16</td>\n",
       "      <td>0.0</td>\n",
       "      <td>0.0</td>\n",
       "      <td>0.0</td>\n",
       "      <td>0.0</td>\n",
       "      <td>1.0</td>\n",
       "    </tr>\n",
       "  </tbody>\n",
       "</table>\n",
       "</div>"
      ],
      "text/plain": [
       "                  count  mean   std  min  25%  50%  75%  max\n",
       "data_10k        10000.0  0.00  0.03  0.0  0.0  0.0  0.0  1.0\n",
       "[Y=1] data_10k   2213.0  0.00  0.00  0.0  0.0  0.0  0.0  0.0\n",
       "[Y=0] data_10k   7787.0  0.00  0.03  0.0  0.0  0.0  0.0  1.0\n",
       "data_50k        50000.0  0.03  0.16  0.0  0.0  0.0  0.0  1.0"
      ]
     },
     "metadata": {},
     "output_type": "display_data"
    },
    {
     "data": {
      "text/html": [
       "<b style=\"color:orangered\">\"[Y=1] data_10k\" не имеет уникальных значений!</b>"
      ],
      "text/plain": [
       "<IPython.core.display.HTML object>"
      ]
     },
     "metadata": {},
     "output_type": "display_data"
    }
   ],
   "source": [
    "show_info('dst_host_rerror_rate')"
   ]
  },
  {
   "cell_type": "markdown",
   "metadata": {},
   "source": [
    "**40) dst_host_srv_rerror_rate:** <a id=\"f40\"></a>процент соединений, активировавших [flag (3)](#f3) REJ, среди соединений, объединенных в [dst_host_srv_count (32)](#f32)."
   ]
  },
  {
   "cell_type": "code",
   "execution_count": 49,
   "metadata": {},
   "outputs": [
    {
     "data": {
      "text/markdown": [
       "**Тип:** числовое значение (float64)."
      ],
      "text/plain": [
       "<IPython.core.display.Markdown object>"
      ]
     },
     "metadata": {},
     "output_type": "display_data"
    },
    {
     "data": {
      "text/html": [
       "<div>\n",
       "<style scoped>\n",
       "    .dataframe tbody tr th:only-of-type {\n",
       "        vertical-align: middle;\n",
       "    }\n",
       "\n",
       "    .dataframe tbody tr th {\n",
       "        vertical-align: top;\n",
       "    }\n",
       "\n",
       "    .dataframe thead th {\n",
       "        text-align: right;\n",
       "    }\n",
       "</style>\n",
       "<table border=\"1\" class=\"dataframe\">\n",
       "  <thead>\n",
       "    <tr style=\"text-align: right;\">\n",
       "      <th></th>\n",
       "      <th>count</th>\n",
       "      <th>mean</th>\n",
       "      <th>std</th>\n",
       "      <th>min</th>\n",
       "      <th>25%</th>\n",
       "      <th>50%</th>\n",
       "      <th>75%</th>\n",
       "      <th>max</th>\n",
       "    </tr>\n",
       "  </thead>\n",
       "  <tbody>\n",
       "    <tr>\n",
       "      <th>data_10k</th>\n",
       "      <td>10000.0</td>\n",
       "      <td>0.00</td>\n",
       "      <td>0.03</td>\n",
       "      <td>0.0</td>\n",
       "      <td>0.0</td>\n",
       "      <td>0.0</td>\n",
       "      <td>0.0</td>\n",
       "      <td>1.0</td>\n",
       "    </tr>\n",
       "    <tr>\n",
       "      <th>[Y=1] data_10k</th>\n",
       "      <td>2213.0</td>\n",
       "      <td>0.00</td>\n",
       "      <td>0.00</td>\n",
       "      <td>0.0</td>\n",
       "      <td>0.0</td>\n",
       "      <td>0.0</td>\n",
       "      <td>0.0</td>\n",
       "      <td>0.1</td>\n",
       "    </tr>\n",
       "    <tr>\n",
       "      <th>[Y=0] data_10k</th>\n",
       "      <td>7787.0</td>\n",
       "      <td>0.00</td>\n",
       "      <td>0.03</td>\n",
       "      <td>0.0</td>\n",
       "      <td>0.0</td>\n",
       "      <td>0.0</td>\n",
       "      <td>0.0</td>\n",
       "      <td>1.0</td>\n",
       "    </tr>\n",
       "    <tr>\n",
       "      <th>data_50k</th>\n",
       "      <td>50000.0</td>\n",
       "      <td>0.03</td>\n",
       "      <td>0.15</td>\n",
       "      <td>0.0</td>\n",
       "      <td>0.0</td>\n",
       "      <td>0.0</td>\n",
       "      <td>0.0</td>\n",
       "      <td>1.0</td>\n",
       "    </tr>\n",
       "  </tbody>\n",
       "</table>\n",
       "</div>"
      ],
      "text/plain": [
       "                  count  mean   std  min  25%  50%  75%  max\n",
       "data_10k        10000.0  0.00  0.03  0.0  0.0  0.0  0.0  1.0\n",
       "[Y=1] data_10k   2213.0  0.00  0.00  0.0  0.0  0.0  0.0  0.1\n",
       "[Y=0] data_10k   7787.0  0.00  0.03  0.0  0.0  0.0  0.0  1.0\n",
       "data_50k        50000.0  0.03  0.15  0.0  0.0  0.0  0.0  1.0"
      ]
     },
     "metadata": {},
     "output_type": "display_data"
    }
   ],
   "source": [
    "show_info('dst_host_srv_rerror_rate')"
   ]
  },
  {
   "cell_type": "markdown",
   "metadata": {},
   "source": [
    "#### 2.2.6. Общий итог по анализу данных <a id=\"fg6\"></a>"
   ]
  },
  {
   "cell_type": "markdown",
   "metadata": {},
   "source": [
    "TO DO"
   ]
  },
  {
   "cell_type": "markdown",
   "metadata": {},
   "source": [
    "## N. Выводы <a id=\"conclusions\"></a>\n",
    "\n"
   ]
  },
  {
   "cell_type": "markdown",
   "metadata": {},
   "source": [
    "TO DO"
   ]
  },
  {
   "cell_type": "markdown",
   "metadata": {},
   "source": [
    "## N. Список литературы <a id=\"references\"></a>\n",
    "1. Подготовленные данные (https://github.com/Demetrey/DMaP/tree/CP/CP/datasets). <a id=\"l1\"></a>\n",
    "2. Датасет NSL-KDD (https://github.com/defcom17/NSL_KDD). <a id=\"l2\"></a>\n",
    "3. Е.М. Бурлаков Применение метода анализа соответствий для оптимизации комбинаций атрибутов у наборов данных. Вестник ПНИПУ. Электротехника, информационные технологии, системы управления №26, 2018. <a id=\"l3\"></a>\n",
    "4. L.Dhanabal, S.P. Shantharajah.  A Study on NSL-KDD Dataset for Intrusion Detection System Based on Classification Algorithms (https://e-tarjome.com/storage/btn_uploaded/2019-07-13/1563006133_9702-etarjome-English.pdf). <a id=\"l4\"></a>"
   ]
  }
 ],
 "metadata": {
  "kernelspec": {
   "display_name": "Python 3 (ipykernel)",
   "language": "python",
   "name": "python3"
  },
  "language_info": {
   "codemirror_mode": {
    "name": "ipython",
    "version": 3
   },
   "file_extension": ".py",
   "mimetype": "text/x-python",
   "name": "python",
   "nbconvert_exporter": "python",
   "pygments_lexer": "ipython3",
   "version": "3.11.4"
  }
 },
 "nbformat": 4,
 "nbformat_minor": 4
}
